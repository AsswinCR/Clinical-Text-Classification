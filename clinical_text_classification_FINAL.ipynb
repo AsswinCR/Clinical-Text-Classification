{
  "cells": [
    {
      "cell_type": "markdown",
      "metadata": {
        "id": "SRSVP4vdhmGz"
      },
      "source": [
        "# Clinical Text Classification\n",
        "## TEAM -13 \n",
        "### Team Members :\n",
        "#### ARUN PRAKASH   -  CB.EN.U4AIE19014\n",
        "#### C.R.ASSWIN     - CB.EN.U4AIE19016\n",
        "#### DHARSHAN KUMAR - CB.EN.U4AIE19024\n",
        "#### AVINASH DORA   - CB.EN.U4AIE19028 \n",
        "\n",
        "\n",
        "Our Project consists of the following  steps:\n",
        "\n",
        "* Data loading \n",
        "* Data Preprocessing\n",
        "* Feature Engineering\n",
        "* Model Selection\n",
        "* Model training\n",
        "* Model evaluation\n"
      ],
      "id": "SRSVP4vdhmGz"
    },
    {
      "cell_type": "code",
      "source": [
        "from google.colab import drive\n",
        "drive.mount('/content/gdrive')"
      ],
      "metadata": {
        "id": "0GxFGxCsh3UR",
        "colab": {
          "base_uri": "https://localhost:8080/"
        },
        "outputId": "4c6ab80c-6ec9-4838-b235-cb3abb21703a"
      },
      "id": "0GxFGxCsh3UR",
      "execution_count": 1,
      "outputs": [
        {
          "output_type": "stream",
          "name": "stdout",
          "text": [
            "Mounted at /content/gdrive\n"
          ]
        }
      ]
    },
    {
      "cell_type": "code",
      "execution_count": 2,
      "metadata": {
        "id": "t4GP7l_RhmG3",
        "colab": {
          "base_uri": "https://localhost:8080/"
        },
        "outputId": "e0ed3df3-ae7e-4661-cd4b-a49812998c20"
      },
      "outputs": [
        {
          "output_type": "stream",
          "name": "stdout",
          "text": [
            "Collecting https://s3-us-west-2.amazonaws.com/ai2-s2-scispacy/releases/v0.5.0/en_ner_bionlp13cg_md-0.5.0.tar.gz\n",
            "  Downloading https://s3-us-west-2.amazonaws.com/ai2-s2-scispacy/releases/v0.5.0/en_ner_bionlp13cg_md-0.5.0.tar.gz (120.2 MB)\n",
            "\u001b[K     |████████████████████████████████| 120.2 MB 27 kB/s \n",
            "\u001b[?25hCollecting spacy<3.3.0,>=3.2.3\n",
            "  Downloading spacy-3.2.4-cp37-cp37m-manylinux_2_17_x86_64.manylinux2014_x86_64.whl (6.0 MB)\n",
            "\u001b[K     |████████████████████████████████| 6.0 MB 6.8 MB/s \n",
            "\u001b[?25hCollecting catalogue<2.1.0,>=2.0.6\n",
            "  Downloading catalogue-2.0.7-py3-none-any.whl (17 kB)\n",
            "Requirement already satisfied: packaging>=20.0 in /usr/local/lib/python3.7/dist-packages (from spacy<3.3.0,>=3.2.3->en-ner-bionlp13cg-md==0.5.0) (21.3)\n",
            "Collecting typer<0.5.0,>=0.3.0\n",
            "  Downloading typer-0.4.1-py3-none-any.whl (27 kB)\n",
            "Collecting langcodes<4.0.0,>=3.2.0\n",
            "  Downloading langcodes-3.3.0-py3-none-any.whl (181 kB)\n",
            "\u001b[K     |████████████████████████████████| 181 kB 37.0 MB/s \n",
            "\u001b[?25hCollecting srsly<3.0.0,>=2.4.1\n",
            "  Downloading srsly-2.4.3-cp37-cp37m-manylinux_2_17_x86_64.manylinux2014_x86_64.whl (457 kB)\n",
            "\u001b[K     |████████████████████████████████| 457 kB 42.7 MB/s \n",
            "\u001b[?25hRequirement already satisfied: tqdm<5.0.0,>=4.38.0 in /usr/local/lib/python3.7/dist-packages (from spacy<3.3.0,>=3.2.3->en-ner-bionlp13cg-md==0.5.0) (4.64.0)\n",
            "Requirement already satisfied: preshed<3.1.0,>=3.0.2 in /usr/local/lib/python3.7/dist-packages (from spacy<3.3.0,>=3.2.3->en-ner-bionlp13cg-md==0.5.0) (3.0.6)\n",
            "Requirement already satisfied: numpy>=1.15.0 in /usr/local/lib/python3.7/dist-packages (from spacy<3.3.0,>=3.2.3->en-ner-bionlp13cg-md==0.5.0) (1.21.6)\n",
            "Requirement already satisfied: click<8.1.0 in /usr/local/lib/python3.7/dist-packages (from spacy<3.3.0,>=3.2.3->en-ner-bionlp13cg-md==0.5.0) (7.1.2)\n",
            "Requirement already satisfied: cymem<2.1.0,>=2.0.2 in /usr/local/lib/python3.7/dist-packages (from spacy<3.3.0,>=3.2.3->en-ner-bionlp13cg-md==0.5.0) (2.0.6)\n",
            "Collecting spacy-legacy<3.1.0,>=3.0.8\n",
            "  Downloading spacy_legacy-3.0.9-py2.py3-none-any.whl (20 kB)\n",
            "Collecting spacy-loggers<2.0.0,>=1.0.0\n",
            "  Downloading spacy_loggers-1.0.2-py3-none-any.whl (7.2 kB)\n",
            "Requirement already satisfied: blis<0.8.0,>=0.4.0 in /usr/local/lib/python3.7/dist-packages (from spacy<3.3.0,>=3.2.3->en-ner-bionlp13cg-md==0.5.0) (0.4.1)\n",
            "Requirement already satisfied: setuptools in /usr/local/lib/python3.7/dist-packages (from spacy<3.3.0,>=3.2.3->en-ner-bionlp13cg-md==0.5.0) (57.4.0)\n",
            "Requirement already satisfied: requests<3.0.0,>=2.13.0 in /usr/local/lib/python3.7/dist-packages (from spacy<3.3.0,>=3.2.3->en-ner-bionlp13cg-md==0.5.0) (2.23.0)\n",
            "Collecting typing-extensions<4.0.0.0,>=3.7.4\n",
            "  Downloading typing_extensions-3.10.0.2-py3-none-any.whl (26 kB)\n",
            "Requirement already satisfied: murmurhash<1.1.0,>=0.28.0 in /usr/local/lib/python3.7/dist-packages (from spacy<3.3.0,>=3.2.3->en-ner-bionlp13cg-md==0.5.0) (1.0.7)\n",
            "Requirement already satisfied: jinja2 in /usr/local/lib/python3.7/dist-packages (from spacy<3.3.0,>=3.2.3->en-ner-bionlp13cg-md==0.5.0) (2.11.3)\n",
            "Collecting thinc<8.1.0,>=8.0.12\n",
            "  Downloading thinc-8.0.15-cp37-cp37m-manylinux_2_17_x86_64.manylinux2014_x86_64.whl (653 kB)\n",
            "\u001b[K     |████████████████████████████████| 653 kB 35.8 MB/s \n",
            "\u001b[?25hCollecting pathy>=0.3.5\n",
            "  Downloading pathy-0.6.1-py3-none-any.whl (42 kB)\n",
            "\u001b[K     |████████████████████████████████| 42 kB 1.2 MB/s \n",
            "\u001b[?25hRequirement already satisfied: wasabi<1.1.0,>=0.8.1 in /usr/local/lib/python3.7/dist-packages (from spacy<3.3.0,>=3.2.3->en-ner-bionlp13cg-md==0.5.0) (0.9.1)\n",
            "Collecting pydantic!=1.8,!=1.8.1,<1.9.0,>=1.7.4\n",
            "  Downloading pydantic-1.8.2-cp37-cp37m-manylinux2014_x86_64.whl (10.1 MB)\n",
            "\u001b[K     |████████████████████████████████| 10.1 MB 39.4 MB/s \n",
            "\u001b[?25hRequirement already satisfied: zipp>=0.5 in /usr/local/lib/python3.7/dist-packages (from catalogue<2.1.0,>=2.0.6->spacy<3.3.0,>=3.2.3->en-ner-bionlp13cg-md==0.5.0) (3.8.0)\n",
            "Requirement already satisfied: pyparsing!=3.0.5,>=2.0.2 in /usr/local/lib/python3.7/dist-packages (from packaging>=20.0->spacy<3.3.0,>=3.2.3->en-ner-bionlp13cg-md==0.5.0) (3.0.8)\n",
            "Collecting smart-open<6.0.0,>=5.0.0\n",
            "  Downloading smart_open-5.2.1-py3-none-any.whl (58 kB)\n",
            "\u001b[K     |████████████████████████████████| 58 kB 1.8 MB/s \n",
            "\u001b[?25hRequirement already satisfied: certifi>=2017.4.17 in /usr/local/lib/python3.7/dist-packages (from requests<3.0.0,>=2.13.0->spacy<3.3.0,>=3.2.3->en-ner-bionlp13cg-md==0.5.0) (2021.10.8)\n",
            "Requirement already satisfied: chardet<4,>=3.0.2 in /usr/local/lib/python3.7/dist-packages (from requests<3.0.0,>=2.13.0->spacy<3.3.0,>=3.2.3->en-ner-bionlp13cg-md==0.5.0) (3.0.4)\n",
            "Requirement already satisfied: urllib3!=1.25.0,!=1.25.1,<1.26,>=1.21.1 in /usr/local/lib/python3.7/dist-packages (from requests<3.0.0,>=2.13.0->spacy<3.3.0,>=3.2.3->en-ner-bionlp13cg-md==0.5.0) (1.24.3)\n",
            "Requirement already satisfied: idna<3,>=2.5 in /usr/local/lib/python3.7/dist-packages (from requests<3.0.0,>=2.13.0->spacy<3.3.0,>=3.2.3->en-ner-bionlp13cg-md==0.5.0) (2.10)\n",
            "Requirement already satisfied: MarkupSafe>=0.23 in /usr/local/lib/python3.7/dist-packages (from jinja2->spacy<3.3.0,>=3.2.3->en-ner-bionlp13cg-md==0.5.0) (2.0.1)\n",
            "Building wheels for collected packages: en-ner-bionlp13cg-md\n",
            "  Building wheel for en-ner-bionlp13cg-md (setup.py) ... \u001b[?25l\u001b[?25hdone\n",
            "  Created wheel for en-ner-bionlp13cg-md: filename=en_ner_bionlp13cg_md-0.5.0-py3-none-any.whl size=120239502 sha256=1cc7d56a82ce7d7840d621dff8421cf1c7a70161cbd310b028ba8c7e51d9e67a\n",
            "  Stored in directory: /root/.cache/pip/wheels/9d/69/01/c0a45e3fd3dfe3eec4fd1ae7d62a76e1909dba9f64f92f2428\n",
            "Successfully built en-ner-bionlp13cg-md\n",
            "Installing collected packages: typing-extensions, catalogue, typer, srsly, smart-open, pydantic, thinc, spacy-loggers, spacy-legacy, pathy, langcodes, spacy, en-ner-bionlp13cg-md\n",
            "  Attempting uninstall: typing-extensions\n",
            "    Found existing installation: typing-extensions 4.2.0\n",
            "    Uninstalling typing-extensions-4.2.0:\n",
            "      Successfully uninstalled typing-extensions-4.2.0\n",
            "  Attempting uninstall: catalogue\n",
            "    Found existing installation: catalogue 1.0.0\n",
            "    Uninstalling catalogue-1.0.0:\n",
            "      Successfully uninstalled catalogue-1.0.0\n",
            "  Attempting uninstall: srsly\n",
            "    Found existing installation: srsly 1.0.5\n",
            "    Uninstalling srsly-1.0.5:\n",
            "      Successfully uninstalled srsly-1.0.5\n",
            "  Attempting uninstall: smart-open\n",
            "    Found existing installation: smart-open 6.0.0\n",
            "    Uninstalling smart-open-6.0.0:\n",
            "      Successfully uninstalled smart-open-6.0.0\n",
            "  Attempting uninstall: thinc\n",
            "    Found existing installation: thinc 7.4.0\n",
            "    Uninstalling thinc-7.4.0:\n",
            "      Successfully uninstalled thinc-7.4.0\n",
            "  Attempting uninstall: spacy\n",
            "    Found existing installation: spacy 2.2.4\n",
            "    Uninstalling spacy-2.2.4:\n",
            "      Successfully uninstalled spacy-2.2.4\n",
            "\u001b[31mERROR: pip's dependency resolver does not currently take into account all the packages that are installed. This behaviour is the source of the following dependency conflicts.\n",
            "tensorflow 2.8.0 requires tf-estimator-nightly==2.8.0.dev2021122109, which is not installed.\u001b[0m\n",
            "Successfully installed catalogue-2.0.7 en-ner-bionlp13cg-md-0.5.0 langcodes-3.3.0 pathy-0.6.1 pydantic-1.8.2 smart-open-5.2.1 spacy-3.2.4 spacy-legacy-3.0.9 spacy-loggers-1.0.2 srsly-2.4.3 thinc-8.0.15 typer-0.4.1 typing-extensions-3.10.0.2\n"
          ]
        }
      ],
      "source": [
        "\n",
        "!pip install https://s3-us-west-2.amazonaws.com/ai2-s2-scispacy/releases/v0.5.0/en_ner_bionlp13cg_md-0.5.0.tar.gz\n"
      ],
      "id": "t4GP7l_RhmG3"
    },
    {
      "cell_type": "code",
      "execution_count": 3,
      "metadata": {
        "id": "MbGhWRuxhmG4",
        "colab": {
          "base_uri": "https://localhost:8080/"
        },
        "outputId": "bbc298fe-98fa-45ff-c2cb-340859dc9a7e"
      },
      "outputs": [
        {
          "output_type": "stream",
          "name": "stdout",
          "text": [
            "[nltk_data] Downloading package punkt to /root/nltk_data...\n",
            "[nltk_data]   Unzipping tokenizers/punkt.zip.\n",
            "[nltk_data] Downloading package wordnet to /root/nltk_data...\n",
            "[nltk_data]   Unzipping corpora/wordnet.zip.\n",
            "[nltk_data] Downloading package omw-1.4 to /root/nltk_data...\n",
            "[nltk_data]   Unzipping corpora/omw-1.4.zip.\n",
            "[nltk_data] Downloading package stopwords to /root/nltk_data...\n",
            "[nltk_data]   Unzipping corpora/stopwords.zip.\n"
          ]
        }
      ],
      "source": [
        "# import libraries\n",
        "import nltk\n",
        "nltk.download(['punkt', 'wordnet'])\n",
        "nltk.download('omw-1.4')\n",
        "nltk.download('stopwords')\n",
        "import re\n",
        "import pandas as pd\n",
        "from nltk.tokenize import word_tokenize\n",
        "from nltk.stem import WordNetLemmatizer\n",
        "from nltk.corpus import stopwords\n",
        "from nltk.stem import PorterStemmer\n",
        "\n",
        "from sqlalchemy import create_engine\n",
        "\n",
        "from sklearn.pipeline import Pipeline\n",
        "from sklearn.metrics import confusion_matrix\n",
        "from sklearn.model_selection import train_test_split\n",
        "from sklearn.ensemble import RandomForestClassifier\n",
        "from sklearn.feature_extraction.text import CountVectorizer, TfidfTransformer, TfidfVectorizer\n",
        "\n",
        "import numpy as np\n",
        "import string \n",
        "# from sklearn.datasets import make_multilabel_classification\n",
        "from sklearn.multioutput import MultiOutputClassifier\n",
        "from sklearn.neighbors import KNeighborsClassifier\n",
        "\n",
        "from sklearn.model_selection import GridSearchCV\n",
        "from sklearn.metrics import classification_report\n",
        "from sklearn.pipeline import FeatureUnion\n",
        "from sklearn.base import BaseEstimator, TransformerMixin\n",
        "\n",
        "from sklearn.metrics import accuracy_score, roc_auc_score, f1_score,precision_score,recall_score\n",
        "\n",
        "from sklearn.preprocessing import MinMaxScaler\n",
        "import matplotlib.pyplot as plt\n",
        "\n",
        "from keras.layers import Dense, Input\n",
        "from keras.models import Model\n",
        "from keras.optimizers import gradient_descent_v2 \n",
        "# from keras.optimizers import SGD # outdated\n",
        "from tensorflow.keras.optimizers import RMSprop\n",
        "from keras.initializers import VarianceScaling\n",
        "\n",
        "import pickle"
      ],
      "id": "MbGhWRuxhmG4"
    },
    {
      "cell_type": "code",
      "execution_count": 4,
      "metadata": {
        "id": "dYS_4ai_hmG5"
      },
      "outputs": [],
      "source": [
        "SEQUENCE_MODEL = False\n",
        "MAX_TOKENS = 20000\n",
        "MAX_LENGTH = 1500\n",
        "USE_GROVE  = True"
      ],
      "id": "dYS_4ai_hmG5"
    },
    {
      "cell_type": "markdown",
      "metadata": {
        "id": "jHuzbEZrhmG6"
      },
      "source": [
        "## 1. Data Loading\n",
        "\n",
        "\n",
        " the code below loads the open source clinical text classification dataset into memory as Pandas DataFrame:"
      ],
      "id": "jHuzbEZrhmG6"
    },
    {
      "cell_type": "code",
      "execution_count": 5,
      "metadata": {
        "colab": {
          "base_uri": "https://localhost:8080/",
          "height": 224
        },
        "id": "Av9z_TeNhmG6",
        "outputId": "c817d881-1fb7-4892-ef48-155dc046417c"
      },
      "outputs": [
        {
          "output_type": "stream",
          "name": "stdout",
          "text": [
            "(4999, 5)\n"
          ]
        },
        {
          "output_type": "execute_result",
          "data": {
            "text/plain": [
              "                                         description  \\\n",
              "0   A 23-year-old white female presents with comp...   \n",
              "1           Consult for laparoscopic gastric bypass.   \n",
              "2           Consult for laparoscopic gastric bypass.   \n",
              "3                             2-D M-Mode. Doppler.     \n",
              "4                                 2-D Echocardiogram   \n",
              "\n",
              "             medical_specialty                                sample_name  \\\n",
              "0         Allergy / Immunology                         Allergic Rhinitis    \n",
              "1                   Bariatrics   Laparoscopic Gastric Bypass Consult - 2    \n",
              "2                   Bariatrics   Laparoscopic Gastric Bypass Consult - 1    \n",
              "3   Cardiovascular / Pulmonary                    2-D Echocardiogram - 1    \n",
              "4   Cardiovascular / Pulmonary                    2-D Echocardiogram - 2    \n",
              "\n",
              "                                       transcription  \\\n",
              "0  SUBJECTIVE:,  This 23-year-old white female pr...   \n",
              "1  PAST MEDICAL HISTORY:, He has difficulty climb...   \n",
              "2  HISTORY OF PRESENT ILLNESS: , I have seen ABC ...   \n",
              "3  2-D M-MODE: , ,1.  Left atrial enlargement wit...   \n",
              "4  1.  The left ventricular cavity size and wall ...   \n",
              "\n",
              "                                            keywords  \n",
              "0  allergy / immunology, allergic rhinitis, aller...  \n",
              "1  bariatrics, laparoscopic gastric bypass, weigh...  \n",
              "2  bariatrics, laparoscopic gastric bypass, heart...  \n",
              "3  cardiovascular / pulmonary, 2-d m-mode, dopple...  \n",
              "4  cardiovascular / pulmonary, 2-d, doppler, echo...  "
            ],
            "text/html": [
              "\n",
              "  <div id=\"df-94832ba5-6c2d-43c1-9f00-5ab2d0d48184\">\n",
              "    <div class=\"colab-df-container\">\n",
              "      <div>\n",
              "<style scoped>\n",
              "    .dataframe tbody tr th:only-of-type {\n",
              "        vertical-align: middle;\n",
              "    }\n",
              "\n",
              "    .dataframe tbody tr th {\n",
              "        vertical-align: top;\n",
              "    }\n",
              "\n",
              "    .dataframe thead th {\n",
              "        text-align: right;\n",
              "    }\n",
              "</style>\n",
              "<table border=\"1\" class=\"dataframe\">\n",
              "  <thead>\n",
              "    <tr style=\"text-align: right;\">\n",
              "      <th></th>\n",
              "      <th>description</th>\n",
              "      <th>medical_specialty</th>\n",
              "      <th>sample_name</th>\n",
              "      <th>transcription</th>\n",
              "      <th>keywords</th>\n",
              "    </tr>\n",
              "  </thead>\n",
              "  <tbody>\n",
              "    <tr>\n",
              "      <th>0</th>\n",
              "      <td>A 23-year-old white female presents with comp...</td>\n",
              "      <td>Allergy / Immunology</td>\n",
              "      <td>Allergic Rhinitis</td>\n",
              "      <td>SUBJECTIVE:,  This 23-year-old white female pr...</td>\n",
              "      <td>allergy / immunology, allergic rhinitis, aller...</td>\n",
              "    </tr>\n",
              "    <tr>\n",
              "      <th>1</th>\n",
              "      <td>Consult for laparoscopic gastric bypass.</td>\n",
              "      <td>Bariatrics</td>\n",
              "      <td>Laparoscopic Gastric Bypass Consult - 2</td>\n",
              "      <td>PAST MEDICAL HISTORY:, He has difficulty climb...</td>\n",
              "      <td>bariatrics, laparoscopic gastric bypass, weigh...</td>\n",
              "    </tr>\n",
              "    <tr>\n",
              "      <th>2</th>\n",
              "      <td>Consult for laparoscopic gastric bypass.</td>\n",
              "      <td>Bariatrics</td>\n",
              "      <td>Laparoscopic Gastric Bypass Consult - 1</td>\n",
              "      <td>HISTORY OF PRESENT ILLNESS: , I have seen ABC ...</td>\n",
              "      <td>bariatrics, laparoscopic gastric bypass, heart...</td>\n",
              "    </tr>\n",
              "    <tr>\n",
              "      <th>3</th>\n",
              "      <td>2-D M-Mode. Doppler.</td>\n",
              "      <td>Cardiovascular / Pulmonary</td>\n",
              "      <td>2-D Echocardiogram - 1</td>\n",
              "      <td>2-D M-MODE: , ,1.  Left atrial enlargement wit...</td>\n",
              "      <td>cardiovascular / pulmonary, 2-d m-mode, dopple...</td>\n",
              "    </tr>\n",
              "    <tr>\n",
              "      <th>4</th>\n",
              "      <td>2-D Echocardiogram</td>\n",
              "      <td>Cardiovascular / Pulmonary</td>\n",
              "      <td>2-D Echocardiogram - 2</td>\n",
              "      <td>1.  The left ventricular cavity size and wall ...</td>\n",
              "      <td>cardiovascular / pulmonary, 2-d, doppler, echo...</td>\n",
              "    </tr>\n",
              "  </tbody>\n",
              "</table>\n",
              "</div>\n",
              "      <button class=\"colab-df-convert\" onclick=\"convertToInteractive('df-94832ba5-6c2d-43c1-9f00-5ab2d0d48184')\"\n",
              "              title=\"Convert this dataframe to an interactive table.\"\n",
              "              style=\"display:none;\">\n",
              "        \n",
              "  <svg xmlns=\"http://www.w3.org/2000/svg\" height=\"24px\"viewBox=\"0 0 24 24\"\n",
              "       width=\"24px\">\n",
              "    <path d=\"M0 0h24v24H0V0z\" fill=\"none\"/>\n",
              "    <path d=\"M18.56 5.44l.94 2.06.94-2.06 2.06-.94-2.06-.94-.94-2.06-.94 2.06-2.06.94zm-11 1L8.5 8.5l.94-2.06 2.06-.94-2.06-.94L8.5 2.5l-.94 2.06-2.06.94zm10 10l.94 2.06.94-2.06 2.06-.94-2.06-.94-.94-2.06-.94 2.06-2.06.94z\"/><path d=\"M17.41 7.96l-1.37-1.37c-.4-.4-.92-.59-1.43-.59-.52 0-1.04.2-1.43.59L10.3 9.45l-7.72 7.72c-.78.78-.78 2.05 0 2.83L4 21.41c.39.39.9.59 1.41.59.51 0 1.02-.2 1.41-.59l7.78-7.78 2.81-2.81c.8-.78.8-2.07 0-2.86zM5.41 20L4 18.59l7.72-7.72 1.47 1.35L5.41 20z\"/>\n",
              "  </svg>\n",
              "      </button>\n",
              "      \n",
              "  <style>\n",
              "    .colab-df-container {\n",
              "      display:flex;\n",
              "      flex-wrap:wrap;\n",
              "      gap: 12px;\n",
              "    }\n",
              "\n",
              "    .colab-df-convert {\n",
              "      background-color: #E8F0FE;\n",
              "      border: none;\n",
              "      border-radius: 50%;\n",
              "      cursor: pointer;\n",
              "      display: none;\n",
              "      fill: #1967D2;\n",
              "      height: 32px;\n",
              "      padding: 0 0 0 0;\n",
              "      width: 32px;\n",
              "    }\n",
              "\n",
              "    .colab-df-convert:hover {\n",
              "      background-color: #E2EBFA;\n",
              "      box-shadow: 0px 1px 2px rgba(60, 64, 67, 0.3), 0px 1px 3px 1px rgba(60, 64, 67, 0.15);\n",
              "      fill: #174EA6;\n",
              "    }\n",
              "\n",
              "    [theme=dark] .colab-df-convert {\n",
              "      background-color: #3B4455;\n",
              "      fill: #D2E3FC;\n",
              "    }\n",
              "\n",
              "    [theme=dark] .colab-df-convert:hover {\n",
              "      background-color: #434B5C;\n",
              "      box-shadow: 0px 1px 3px 1px rgba(0, 0, 0, 0.15);\n",
              "      filter: drop-shadow(0px 1px 2px rgba(0, 0, 0, 0.3));\n",
              "      fill: #FFFFFF;\n",
              "    }\n",
              "  </style>\n",
              "\n",
              "      <script>\n",
              "        const buttonEl =\n",
              "          document.querySelector('#df-94832ba5-6c2d-43c1-9f00-5ab2d0d48184 button.colab-df-convert');\n",
              "        buttonEl.style.display =\n",
              "          google.colab.kernel.accessAllowed ? 'block' : 'none';\n",
              "\n",
              "        async function convertToInteractive(key) {\n",
              "          const element = document.querySelector('#df-94832ba5-6c2d-43c1-9f00-5ab2d0d48184');\n",
              "          const dataTable =\n",
              "            await google.colab.kernel.invokeFunction('convertToInteractive',\n",
              "                                                     [key], {});\n",
              "          if (!dataTable) return;\n",
              "\n",
              "          const docLinkHtml = 'Like what you see? Visit the ' +\n",
              "            '<a target=\"_blank\" href=https://colab.research.google.com/notebooks/data_table.ipynb>data table notebook</a>'\n",
              "            + ' to learn more about interactive tables.';\n",
              "          element.innerHTML = '';\n",
              "          dataTable['output_type'] = 'display_data';\n",
              "          await google.colab.output.renderOutput(dataTable, element);\n",
              "          const docLink = document.createElement('div');\n",
              "          docLink.innerHTML = docLinkHtml;\n",
              "          element.appendChild(docLink);\n",
              "        }\n",
              "      </script>\n",
              "    </div>\n",
              "  </div>\n",
              "  "
            ]
          },
          "metadata": {},
          "execution_count": 5
        }
      ],
      "source": [
        "data = pd.read_csv(\"/content/gdrive/MyDrive/DLforSIP/NLP/mtsamples.csv\", index_col=0)\n",
        "print(data.shape)\n",
        "data.head()"
      ],
      "id": "Av9z_TeNhmG6"
    },
    {
      "cell_type": "code",
      "execution_count": 6,
      "metadata": {
        "colab": {
          "base_uri": "https://localhost:8080/"
        },
        "id": "D1FovlDDhmG7",
        "outputId": "47f45c25-4648-4095-c67b-8e0ac24659b0"
      },
      "outputs": [
        {
          "output_type": "execute_result",
          "data": {
            "text/plain": [
              " Surgery                          1103\n",
              " Consult - History and Phy.        516\n",
              " Cardiovascular / Pulmonary        372\n",
              " Orthopedic                        355\n",
              " Radiology                         273\n",
              " General Medicine                  259\n",
              " Gastroenterology                  230\n",
              " Neurology                         223\n",
              " SOAP / Chart / Progress Notes     166\n",
              " Obstetrics / Gynecology           160\n",
              " Urology                           158\n",
              " Discharge Summary                 108\n",
              " ENT - Otolaryngology               98\n",
              " Neurosurgery                       94\n",
              " Hematology - Oncology              90\n",
              " Ophthalmology                      83\n",
              " Nephrology                         81\n",
              " Emergency Room Reports             75\n",
              " Pediatrics - Neonatal              70\n",
              " Pain Management                    62\n",
              " Psychiatry / Psychology            53\n",
              " Office Notes                       51\n",
              " Podiatry                           47\n",
              " Dermatology                        29\n",
              " Cosmetic / Plastic Surgery         27\n",
              " Dentistry                          27\n",
              " Letters                            23\n",
              " Physical Medicine - Rehab          21\n",
              " Sleep Medicine                     20\n",
              " Endocrinology                      19\n",
              " Bariatrics                         18\n",
              " IME-QME-Work Comp etc.             16\n",
              " Chiropractic                       14\n",
              " Rheumatology                       10\n",
              " Diets and Nutritions               10\n",
              " Speech - Language                   9\n",
              " Autopsy                             8\n",
              " Lab Medicine - Pathology            8\n",
              " Allergy / Immunology                7\n",
              " Hospice - Palliative Care           6\n",
              "Name: medical_specialty, dtype: int64"
            ]
          },
          "metadata": {},
          "execution_count": 6
        }
      ],
      "source": [
        "data['medical_specialty'].value_counts()"
      ],
      "id": "D1FovlDDhmG7"
    },
    {
      "cell_type": "markdown",
      "metadata": {
        "id": "Sr4dfYIehmG7"
      },
      "source": [
        "## 2. Data Exploration\n",
        "\n"
      ],
      "id": "Sr4dfYIehmG7"
    },
    {
      "cell_type": "code",
      "execution_count": 7,
      "metadata": {
        "colab": {
          "base_uri": "https://localhost:8080/"
        },
        "id": "9plsa8sqhmG8",
        "outputId": "a56bdfac-cf46-4f9b-b7a1-d92adfc99af6"
      },
      "outputs": [
        {
          "output_type": "stream",
          "name": "stderr",
          "text": [
            "/usr/local/lib/python3.7/dist-packages/pandas/core/indexing.py:1951: SettingWithCopyWarning: \n",
            "A value is trying to be set on a copy of a slice from a DataFrame.\n",
            "Try using .loc[row_indexer,col_indexer] = value instead\n",
            "\n",
            "See the caveats in the documentation: https://pandas.pydata.org/pandas-docs/stable/user_guide/indexing.html#returning-a-view-versus-a-copy\n",
            "  self.obj[selected_item_labels] = value\n"
          ]
        },
        {
          "output_type": "execute_result",
          "data": {
            "text/plain": [
              "Surgery                       1103\n",
              "Cardiovascular / Pulmonary     372\n",
              "Orthopedic                     355\n",
              "Neurology                      317\n",
              "Radiology                      273\n",
              "General Medicine               259\n",
              "Urology                        239\n",
              "Gastroenterology               230\n",
              "Obstetrics / Gynecology        160\n",
              "ENT - Otolaryngology            98\n",
              "Hematology - Oncology           90\n",
              "Ophthalmology                   83\n",
              "Pediatrics - Neonatal           70\n",
              "Psychiatry / Psychology         53\n",
              "Podiatry                        47\n",
              "Dermatology                     29\n",
              "Cosmetic / Plastic Surgery      27\n",
              "Dentistry                       27\n",
              "Physical Medicine - Rehab       21\n",
              "Sleep Medicine                  20\n",
              "Endocrinology                   19\n",
              "Bariatrics                      18\n",
              "IME-QME-Work Comp etc.          16\n",
              "Chiropractic                    14\n",
              "Rheumatology                    10\n",
              "Diets and Nutritions            10\n",
              "Speech - Language                9\n",
              "Autopsy                          8\n",
              "Lab Medicine - Pathology         8\n",
              "Allergy / Immunology             7\n",
              "Hospice - Palliative Care        6\n",
              "Name: medical_specialty, dtype: int64"
            ]
          },
          "metadata": {},
          "execution_count": 7
        }
      ],
      "source": [
        "filtered_data = data[['transcription', 'medical_specialty']]\n",
        "filtered_data.loc[:, 'medical_specialty'] = filtered_data['medical_specialty'].apply(lambda x:str.strip(x))\n",
        "mask = (filtered_data['medical_specialty'] == 'SOAP / Chart / Progress Notes') | \\\n",
        "       (filtered_data['medical_specialty'] == 'Office Notes') | \\\n",
        "       (filtered_data['medical_specialty'] == 'Consult - History and Phy.') | \\\n",
        "       (filtered_data['medical_specialty'] == 'Emergency Room Reports') | \\\n",
        "       (filtered_data['medical_specialty'] == 'Discharge Summary') | \\\n",
        "       (filtered_data['medical_specialty'] == 'Letters') | \\\n",
        "       (filtered_data['medical_specialty'] == 'Pain Management')\n",
        "\n",
        "filtered_data = filtered_data[~mask]\n",
        "\n",
        "mask = filtered_data['medical_specialty'] == 'Neurosurgery'\n",
        "filtered_data.loc[mask, 'medical_specialty'] = 'Neurology'\n",
        "mask = filtered_data['medical_specialty'] == 'Nephrology'\n",
        "filtered_data.loc[mask, 'medical_specialty'] = 'Urology'\n",
        "\n",
        "filtered_data['medical_specialty'].value_counts()"
      ],
      "id": "9plsa8sqhmG8"
    },
    {
      "cell_type": "code",
      "source": [
        "import seaborn as sns\n",
        "\n",
        "plt.figure(figsize=(10,10))\n",
        "sns.countplot(y='medical_specialty', data = filtered_data )\n",
        "plt.show()"
      ],
      "metadata": {
        "colab": {
          "base_uri": "https://localhost:8080/",
          "height": 605
        },
        "id": "OPeHyf9lTvB2",
        "outputId": "fb6f4ccd-de10-4e5b-a9e9-6521ab37ba23"
      },
      "id": "OPeHyf9lTvB2",
      "execution_count": 41,
      "outputs": [
        {
          "output_type": "display_data",
          "data": {
            "text/plain": [
              "<Figure size 720x720 with 1 Axes>"
            ],
            "image/png": "[encoded data removed]"
          },
          "metadata": {
            "needs_background": "light"
          }
        }
      ]
    },
    {
      "cell_type": "code",
      "execution_count": 8,
      "metadata": {
        "colab": {
          "base_uri": "https://localhost:8080/"
        },
        "id": "EFiMDRcnhmG9",
        "outputId": "61562ec6-aa6e-4728-f04b-e49998bab8ad"
      },
      "outputs": [
        {
          "output_type": "execute_result",
          "data": {
            "text/plain": [
              "Surgery                       1103\n",
              "Cardiovascular / Pulmonary     372\n",
              "Orthopedic                     355\n",
              "Neurology                      317\n",
              "Radiology                      273\n",
              "General Medicine               259\n",
              "Urology                        239\n",
              "Gastroenterology               230\n",
              "Obstetrics / Gynecology        160\n",
              "Name: medical_specialty, dtype: int64"
            ]
          },
          "metadata": {},
          "execution_count": 8
        }
      ],
      "source": [
        "data_categories  = filtered_data.groupby(filtered_data['medical_specialty'])\n",
        "filtered_data_categories = data_categories.filter(lambda x:x.shape[0] > 100)\n",
        "filtered_data_categories['medical_specialty'].value_counts()"
      ],
      "id": "EFiMDRcnhmG9"
    },
    {
      "cell_type": "code",
      "source": [
        "import seaborn as sns\n",
        "\n",
        "plt.figure(figsize=(10,10))\n",
        "sns.countplot(y='medical_specialty', data = filtered_data_categories )\n",
        "plt.show()"
      ],
      "metadata": {
        "colab": {
          "base_uri": "https://localhost:8080/",
          "height": 605
        },
        "id": "IFNvA3skTyqB",
        "outputId": "7efcb675-580b-495e-8ecf-f656800ce545"
      },
      "id": "IFNvA3skTyqB",
      "execution_count": 42,
      "outputs": [
        {
          "output_type": "display_data",
          "data": {
            "text/plain": [
              "<Figure size 720x720 with 1 Axes>"
            ],
            "image/png": "[encoded data removed]"
          },
          "metadata": {
            "needs_background": "light"
          }
        }
      ]
    },
    {
      "cell_type": "code",
      "execution_count": 9,
      "metadata": {
        "colab": {
          "base_uri": "https://localhost:8080/"
        },
        "id": "j1niupZihmG9",
        "outputId": "f16532fb-5913-4574-e7d5-3dbba44661d4"
      },
      "outputs": [
        {
          "output_type": "execute_result",
          "data": {
            "text/plain": [
              "(3308, 2)"
            ]
          },
          "metadata": {},
          "execution_count": 9
        }
      ],
      "source": [
        "data = filtered_data_categories.sample(frac=1.0) # shuffling data to avoid artificial patterns\n",
        "data.shape"
      ],
      "id": "j1niupZihmG9"
    },
    {
      "cell_type": "markdown",
      "metadata": {
        "id": "tyEgWKyZhmG9"
      },
      "source": [
        "## 2. Data Preprocessing\n",
        "\n",
        "\n",
        "\n",
        "In order to handle missing data, and reduce the size of vocabulary and training data, the following common data preprocessing steps are normally applied to a text feature (e.g., the transcription feature) for text classification:\n",
        "\n",
        "* handle missing data\n",
        "* standardize text\n",
        "* tokenize text\n",
        "* remove stopwords\n",
        "* stemming\n",
        "* lemmatize"
      ],
      "id": "tyEgWKyZhmG9"
    },
    {
      "cell_type": "markdown",
      "metadata": {
        "id": "HZe4In0NhmG-"
      },
      "source": [
        "### 2.1 Handle missing data\n"
      ],
      "id": "HZe4In0NhmG-"
    },
    {
      "cell_type": "code",
      "execution_count": 10,
      "metadata": {
        "id": "ZypmGwRUhmG-",
        "colab": {
          "base_uri": "https://localhost:8080/"
        },
        "outputId": "0ea91f11-d2d6-4d53-822c-857e96dc2233"
      },
      "outputs": [
        {
          "output_type": "stream",
          "name": "stdout",
          "text": [
            "number of missing entries:  29\n"
          ]
        },
        {
          "output_type": "execute_result",
          "data": {
            "text/plain": [
              "(3279, 2)"
            ]
          },
          "metadata": {},
          "execution_count": 10
        }
      ],
      "source": [
        "print('number of missing entries: ', data['transcription'].isna().sum())\n",
        "df = data.dropna(subset=['transcription'])\n",
        "df.shape"
      ],
      "id": "ZypmGwRUhmG-"
    },
    {
      "cell_type": "code",
      "execution_count": 11,
      "metadata": {
        "colab": {
          "base_uri": "https://localhost:8080/",
          "height": 205
        },
        "id": "pQ4mCgQ_hmG-",
        "outputId": "fb170061-880f-48e5-f51c-4b075f315278"
      },
      "outputs": [
        {
          "output_type": "execute_result",
          "data": {
            "text/plain": [
              "                                          transcription  \\\n",
              "258   PROCEDURE:,  Total hip replacement.,PROCEDURE ...   \n",
              "918   DELIVERY NOTE: , The patient came in around 03...   \n",
              "4668  EXAM: , Single frontal view of the chest.,HIST...   \n",
              "3682  PREOPERATIVE DIAGNOSES,1.  Adrenal mass, right...   \n",
              "266   PREOPERATIVE DIAGNOSES,1.  Recurrent tonsillit...   \n",
              "\n",
              "               medical_specialty  \n",
              "258                      Surgery  \n",
              "918                      Surgery  \n",
              "4668  Cardiovascular / Pulmonary  \n",
              "3682            Gastroenterology  \n",
              "266                      Surgery  "
            ],
            "text/html": [
              "\n",
              "  <div id=\"df-d51de13a-9c8c-4836-80ad-f63a580128fb\">\n",
              "    <div class=\"colab-df-container\">\n",
              "      <div>\n",
              "<style scoped>\n",
              "    .dataframe tbody tr th:only-of-type {\n",
              "        vertical-align: middle;\n",
              "    }\n",
              "\n",
              "    .dataframe tbody tr th {\n",
              "        vertical-align: top;\n",
              "    }\n",
              "\n",
              "    .dataframe thead th {\n",
              "        text-align: right;\n",
              "    }\n",
              "</style>\n",
              "<table border=\"1\" class=\"dataframe\">\n",
              "  <thead>\n",
              "    <tr style=\"text-align: right;\">\n",
              "      <th></th>\n",
              "      <th>transcription</th>\n",
              "      <th>medical_specialty</th>\n",
              "    </tr>\n",
              "  </thead>\n",
              "  <tbody>\n",
              "    <tr>\n",
              "      <th>258</th>\n",
              "      <td>PROCEDURE:,  Total hip replacement.,PROCEDURE ...</td>\n",
              "      <td>Surgery</td>\n",
              "    </tr>\n",
              "    <tr>\n",
              "      <th>918</th>\n",
              "      <td>DELIVERY NOTE: , The patient came in around 03...</td>\n",
              "      <td>Surgery</td>\n",
              "    </tr>\n",
              "    <tr>\n",
              "      <th>4668</th>\n",
              "      <td>EXAM: , Single frontal view of the chest.,HIST...</td>\n",
              "      <td>Cardiovascular / Pulmonary</td>\n",
              "    </tr>\n",
              "    <tr>\n",
              "      <th>3682</th>\n",
              "      <td>PREOPERATIVE DIAGNOSES,1.  Adrenal mass, right...</td>\n",
              "      <td>Gastroenterology</td>\n",
              "    </tr>\n",
              "    <tr>\n",
              "      <th>266</th>\n",
              "      <td>PREOPERATIVE DIAGNOSES,1.  Recurrent tonsillit...</td>\n",
              "      <td>Surgery</td>\n",
              "    </tr>\n",
              "  </tbody>\n",
              "</table>\n",
              "</div>\n",
              "      <button class=\"colab-df-convert\" onclick=\"convertToInteractive('df-d51de13a-9c8c-4836-80ad-f63a580128fb')\"\n",
              "              title=\"Convert this dataframe to an interactive table.\"\n",
              "              style=\"display:none;\">\n",
              "        \n",
              "  <svg xmlns=\"http://www.w3.org/2000/svg\" height=\"24px\"viewBox=\"0 0 24 24\"\n",
              "       width=\"24px\">\n",
              "    <path d=\"M0 0h24v24H0V0z\" fill=\"none\"/>\n",
              "    <path d=\"M18.56 5.44l.94 2.06.94-2.06 2.06-.94-2.06-.94-.94-2.06-.94 2.06-2.06.94zm-11 1L8.5 8.5l.94-2.06 2.06-.94-2.06-.94L8.5 2.5l-.94 2.06-2.06.94zm10 10l.94 2.06.94-2.06 2.06-.94-2.06-.94-.94-2.06-.94 2.06-2.06.94z\"/><path d=\"M17.41 7.96l-1.37-1.37c-.4-.4-.92-.59-1.43-.59-.52 0-1.04.2-1.43.59L10.3 9.45l-7.72 7.72c-.78.78-.78 2.05 0 2.83L4 21.41c.39.39.9.59 1.41.59.51 0 1.02-.2 1.41-.59l7.78-7.78 2.81-2.81c.8-.78.8-2.07 0-2.86zM5.41 20L4 18.59l7.72-7.72 1.47 1.35L5.41 20z\"/>\n",
              "  </svg>\n",
              "      </button>\n",
              "      \n",
              "  <style>\n",
              "    .colab-df-container {\n",
              "      display:flex;\n",
              "      flex-wrap:wrap;\n",
              "      gap: 12px;\n",
              "    }\n",
              "\n",
              "    .colab-df-convert {\n",
              "      background-color: #E8F0FE;\n",
              "      border: none;\n",
              "      border-radius: 50%;\n",
              "      cursor: pointer;\n",
              "      display: none;\n",
              "      fill: #1967D2;\n",
              "      height: 32px;\n",
              "      padding: 0 0 0 0;\n",
              "      width: 32px;\n",
              "    }\n",
              "\n",
              "    .colab-df-convert:hover {\n",
              "      background-color: #E2EBFA;\n",
              "      box-shadow: 0px 1px 2px rgba(60, 64, 67, 0.3), 0px 1px 3px 1px rgba(60, 64, 67, 0.15);\n",
              "      fill: #174EA6;\n",
              "    }\n",
              "\n",
              "    [theme=dark] .colab-df-convert {\n",
              "      background-color: #3B4455;\n",
              "      fill: #D2E3FC;\n",
              "    }\n",
              "\n",
              "    [theme=dark] .colab-df-convert:hover {\n",
              "      background-color: #434B5C;\n",
              "      box-shadow: 0px 1px 3px 1px rgba(0, 0, 0, 0.15);\n",
              "      filter: drop-shadow(0px 1px 2px rgba(0, 0, 0, 0.3));\n",
              "      fill: #FFFFFF;\n",
              "    }\n",
              "  </style>\n",
              "\n",
              "      <script>\n",
              "        const buttonEl =\n",
              "          document.querySelector('#df-d51de13a-9c8c-4836-80ad-f63a580128fb button.colab-df-convert');\n",
              "        buttonEl.style.display =\n",
              "          google.colab.kernel.accessAllowed ? 'block' : 'none';\n",
              "\n",
              "        async function convertToInteractive(key) {\n",
              "          const element = document.querySelector('#df-d51de13a-9c8c-4836-80ad-f63a580128fb');\n",
              "          const dataTable =\n",
              "            await google.colab.kernel.invokeFunction('convertToInteractive',\n",
              "                                                     [key], {});\n",
              "          if (!dataTable) return;\n",
              "\n",
              "          const docLinkHtml = 'Like what you see? Visit the ' +\n",
              "            '<a target=\"_blank\" href=https://colab.research.google.com/notebooks/data_table.ipynb>data table notebook</a>'\n",
              "            + ' to learn more about interactive tables.';\n",
              "          element.innerHTML = '';\n",
              "          dataTable['output_type'] = 'display_data';\n",
              "          await google.colab.output.renderOutput(dataTable, element);\n",
              "          const docLink = document.createElement('div');\n",
              "          docLink.innerHTML = docLinkHtml;\n",
              "          element.appendChild(docLink);\n",
              "        }\n",
              "      </script>\n",
              "    </div>\n",
              "  </div>\n",
              "  "
            ]
          },
          "metadata": {},
          "execution_count": 11
        }
      ],
      "source": [
        "df.head()"
      ],
      "id": "pQ4mCgQ_hmG-"
    },
    {
      "cell_type": "markdown",
      "metadata": {
        "id": "zsUl_Eb0hmG_"
      },
      "source": [
        "### 2.2 Extract Medical Entities "
      ],
      "id": "zsUl_Eb0hmG_"
    },
    {
      "cell_type": "code",
      "execution_count": 12,
      "metadata": {
        "colab": {
          "base_uri": "https://localhost:8080/"
        },
        "id": "x6ETF6kshmG_",
        "outputId": "23cf469a-d996-4c73-face-6ece6d48eba0"
      },
      "outputs": [
        {
          "output_type": "stream",
          "name": "stderr",
          "text": [
            "/usr/local/lib/python3.7/dist-packages/ipykernel_launcher.py:13: SettingWithCopyWarning: \n",
            "A value is trying to be set on a copy of a slice from a DataFrame.\n",
            "Try using .loc[row_indexer,col_indexer] = value instead\n",
            "\n",
            "See the caveats in the documentation: https://pandas.pydata.org/pandas-docs/stable/user_guide/indexing.html#returning-a-view-versus-a-copy\n",
            "  del sys.path[0]\n"
          ]
        }
      ],
      "source": [
        "import spacy\n",
        "import en_ner_bionlp13cg_md\n",
        "\n",
        "nlp = en_ner_bionlp13cg_md.load()\n",
        "\n",
        "def medical_entities( text):\n",
        "    entities = []\n",
        "    doc = nlp(text)\n",
        "    for ent in doc.ents:\n",
        "        entities.append(ent.text)\n",
        "    return ' '.join(entities)\n",
        "\n",
        "df['transcription'] = df['transcription'].apply(medical_entities)"
      ],
      "id": "x6ETF6kshmG_"
    },
    {
      "cell_type": "markdown",
      "metadata": {
        "id": "IGO6G1cMhmG_"
      },
      "source": [
        "### 2.3 Standardize text\n",
        "There are two common steps to standardize text:\n",
        "* change text to lower case: this helps to avoid the effort for a machine learning model to learn the case of characters.\n",
        "* remove punctuation: this helps to reduce the size of vocabulary\n",
        "\n"
      ],
      "id": "IGO6G1cMhmG_"
    },
    {
      "cell_type": "code",
      "execution_count": 13,
      "metadata": {
        "colab": {
          "base_uri": "https://localhost:8080/",
          "height": 53
        },
        "id": "PTil4HoahmG_",
        "outputId": "86572d2a-f700-4ee0-c546-d8238a455324"
      },
      "outputs": [
        {
          "output_type": "execute_result",
          "data": {
            "text/plain": [
              "'patient supine patient trochanter subcutaneous tissues gluteus maximus trochanter capsule femoral neck femoral head femoral head femur subchondral bone shell pelvis extra bone lateral intramedullary hole femur femur head and neck extension-external stem head stem cement canal stem joint bone gluteus maximus subcutaneous tissues skin patient'"
            ],
            "application/vnd.google.colaboratory.intrinsic+json": {
              "type": "string"
            }
          },
          "metadata": {},
          "execution_count": 13
        }
      ],
      "source": [
        "text = df['transcription'].values[0]\n",
        "text"
      ],
      "id": "PTil4HoahmG_"
    },
    {
      "cell_type": "code",
      "execution_count": 14,
      "metadata": {
        "colab": {
          "base_uri": "https://localhost:8080/",
          "height": 53
        },
        "id": "NV_f_ZA7hmHA",
        "outputId": "8759db54-dae7-4848-e219-bd9789cb1c59"
      },
      "outputs": [
        {
          "output_type": "execute_result",
          "data": {
            "text/plain": [
              "'patient supine patient trochanter subcutaneous tissues gluteus maximus trochanter capsule femoral neck femoral head femoral head femur subchondral bone shell pelvis extra bone lateral intramedullary hole femur femur head and neck extensionexternal stem head stem cement canal stem joint bone gluteus maximus subcutaneous tissues skin patient'"
            ],
            "application/vnd.google.colaboratory.intrinsic+json": {
              "type": "string"
            }
          },
          "metadata": {},
          "execution_count": 14
        }
      ],
      "source": [
        "# change to lower case and remove punctuation\n",
        "text = text.lower().translate(str.maketrans('', '', string.punctuation))\n",
        "text"
      ],
      "id": "NV_f_ZA7hmHA"
    },
    {
      "cell_type": "code",
      "execution_count": 15,
      "metadata": {
        "colab": {
          "base_uri": "https://localhost:8080/",
          "height": 53
        },
        "id": "5T2kJKuAhmHA",
        "outputId": "f235fcbb-bd48-4551-a478-c8cbd0e0f2b9"
      },
      "outputs": [
        {
          "output_type": "execute_result",
          "data": {
            "text/plain": [
              "'patient supine patient trochanter subcutaneous tissues gluteus maximus trochanter capsule femoral neck femoral head femoral head femur subchondral bone shell pelvis extra bone lateral intramedullary hole femur femur head and neck extensionexternal stem head stem cement canal stem joint bone gluteus maximus subcutaneous tissues skin patient'"
            ],
            "application/vnd.google.colaboratory.intrinsic+json": {
              "type": "string"
            }
          },
          "metadata": {},
          "execution_count": 15
        }
      ],
      "source": [
        "# change to lower case and remove punctuation\n",
        "text = text.lower().translate(str.maketrans('', '', string.punctuation))\n",
        "text"
      ],
      "id": "5T2kJKuAhmHA"
    },
    {
      "cell_type": "markdown",
      "metadata": {
        "id": "hDzDe0erhmHA"
      },
      "source": [
        "### 2.4 Tokenize text\n",
        "\n",
        "This helps to divide a text into elements of vocabulary. word-level (1-gram) tokenization is commonly used if text is treated as sequence of words. Word-level tokenization also enables the activities of removing stopwords, stemming, and lemmatization. \n",
        "\n",
        " "
      ],
      "id": "hDzDe0erhmHA"
    },
    {
      "cell_type": "code",
      "execution_count": 16,
      "metadata": {
        "colab": {
          "base_uri": "https://localhost:8080/"
        },
        "id": "i4IxWz_nhmHA",
        "outputId": "aae1b58d-98d3-4772-a0d1-3efabcec96cc"
      },
      "outputs": [
        {
          "output_type": "execute_result",
          "data": {
            "text/plain": [
              "['patient',\n",
              " 'supine',\n",
              " 'patient',\n",
              " 'trochanter',\n",
              " 'subcutaneous',\n",
              " 'tissues',\n",
              " 'gluteus',\n",
              " 'maximus',\n",
              " 'trochanter',\n",
              " 'capsule',\n",
              " 'femoral',\n",
              " 'neck',\n",
              " 'femoral',\n",
              " 'head',\n",
              " 'femoral',\n",
              " 'head',\n",
              " 'femur',\n",
              " 'subchondral',\n",
              " 'bone',\n",
              " 'shell',\n",
              " 'pelvis',\n",
              " 'extra',\n",
              " 'bone',\n",
              " 'lateral',\n",
              " 'intramedullary',\n",
              " 'hole',\n",
              " 'femur',\n",
              " 'femur',\n",
              " 'head',\n",
              " 'and',\n",
              " 'neck',\n",
              " 'extensionexternal',\n",
              " 'stem',\n",
              " 'head',\n",
              " 'stem',\n",
              " 'cement',\n",
              " 'canal',\n",
              " 'stem',\n",
              " 'joint',\n",
              " 'bone',\n",
              " 'gluteus',\n",
              " 'maximus',\n",
              " 'subcutaneous',\n",
              " 'tissues',\n",
              " 'skin',\n",
              " 'patient']"
            ]
          },
          "metadata": {},
          "execution_count": 16
        }
      ],
      "source": [
        "from nltk.tokenize import word_tokenize\n",
        "\n",
        "# divide string into individual words\n",
        "tokens = word_tokenize(text)\n",
        "tokens"
      ],
      "id": "i4IxWz_nhmHA"
    },
    {
      "cell_type": "markdown",
      "metadata": {
        "id": "V_X19QKchmHB"
      },
      "source": [
        "### 2.5 Remove Stopwords\n",
        "\n",
        "this helps to reduce the size of vocabulary without compromise of model prediction accuracy. "
      ],
      "id": "V_X19QKchmHB"
    },
    {
      "cell_type": "code",
      "execution_count": 17,
      "metadata": {
        "colab": {
          "base_uri": "https://localhost:8080/"
        },
        "id": "8BCLk_7EhmHB",
        "outputId": "d3c44e3b-7cd6-49e4-8b5f-3c0b56152d07"
      },
      "outputs": [
        {
          "output_type": "execute_result",
          "data": {
            "text/plain": [
              "['patient',\n",
              " 'supine',\n",
              " 'patient',\n",
              " 'trochanter',\n",
              " 'subcutaneous',\n",
              " 'tissues',\n",
              " 'gluteus',\n",
              " 'maximus',\n",
              " 'trochanter',\n",
              " 'capsule',\n",
              " 'femoral',\n",
              " 'neck',\n",
              " 'femoral',\n",
              " 'head',\n",
              " 'femoral',\n",
              " 'head',\n",
              " 'femur',\n",
              " 'subchondral',\n",
              " 'bone',\n",
              " 'shell',\n",
              " 'pelvis',\n",
              " 'extra',\n",
              " 'bone',\n",
              " 'lateral',\n",
              " 'intramedullary',\n",
              " 'hole',\n",
              " 'femur',\n",
              " 'femur',\n",
              " 'head',\n",
              " 'neck',\n",
              " 'extensionexternal',\n",
              " 'stem',\n",
              " 'head',\n",
              " 'stem',\n",
              " 'cement',\n",
              " 'canal',\n",
              " 'stem',\n",
              " 'joint',\n",
              " 'bone',\n",
              " 'gluteus',\n",
              " 'maximus',\n",
              " 'subcutaneous',\n",
              " 'tissues',\n",
              " 'skin',\n",
              " 'patient']"
            ]
          },
          "metadata": {},
          "execution_count": 17
        }
      ],
      "source": [
        "from nltk.corpus import stopwords\n",
        "\n",
        "english_stopwords = set(stopwords.words('english'))\n",
        "\n",
        "clean_tokens = []\n",
        "for tok in tokens:\n",
        "    tok = tok.strip() # remove space\n",
        "    if tok not in english_stopwords:\n",
        "        clean_tokens.append(tok)\n",
        "        \n",
        "clean_tokens"
      ],
      "id": "8BCLk_7EhmHB"
    },
    {
      "cell_type": "markdown",
      "metadata": {
        "id": "J-SxOFsVhmHC"
      },
      "source": [
        "The data preprocessing steps above can be combined into one function to clean up a text string:"
      ],
      "id": "J-SxOFsVhmHC"
    },
    {
      "cell_type": "code",
      "execution_count": 18,
      "metadata": {
        "colab": {
          "base_uri": "https://localhost:8080/",
          "height": 53
        },
        "id": "LePRBGIbhmHC",
        "outputId": "6a3a4dcd-1a4f-4b32-a1ac-7a260cc515a1"
      },
      "outputs": [
        {
          "output_type": "execute_result",
          "data": {
            "text/plain": [
              "'patient supin patient trochant subcutan tissu gluteu maximu trochant capsul femor neck femor head femor head femur subchondr bone shell pelvi extra bone later intramedullari hole femur femur head neck extensionextern stem head stem cement canal stem joint bone gluteu maximu subcutan tissu skin patient'"
            ],
            "application/vnd.google.colaboratory.intrinsic+json": {
              "type": "string"
            }
          },
          "metadata": {},
          "execution_count": 18
        }
      ],
      "source": [
        "def clean_text(text):\n",
        "    # get English stopwords\n",
        "    english_stopwords = set(stopwords.words('english'))\n",
        "    \n",
        "    # change to lower case and remove punctuation\n",
        "    text = text.lower().translate(str.maketrans('', '', string.punctuation))\n",
        "    \n",
        "    # divide string into individual words\n",
        "    tokens = word_tokenize(text)\n",
        "    \n",
        "    # create Stemmer object\n",
        "    stemmer = PorterStemmer()\n",
        "    \n",
        "    # change words to its root format\n",
        "    lemmatizer = WordNetLemmatizer()\n",
        "\n",
        "    clean_tokens = []\n",
        "    for tok in tokens:\n",
        "        tok = tok.strip() # remove space\n",
        "        if tok not in english_stopwords:\n",
        "            clean_tok = lemmatizer.lemmatize(tok) # lemmatizition\n",
        "            clean_tok = stemmer.stem(clean_tok) # Stemming\n",
        "            clean_tokens.append(clean_tok)\n",
        "\n",
        "    return \" \".join(clean_tokens) # combine tokens into one string when necessary\n",
        "\n",
        "text = df['transcription'].values[0]\n",
        "clean_tokens = clean_text(text)\n",
        "clean_tokens"
      ],
      "id": "LePRBGIbhmHC"
    },
    {
      "cell_type": "markdown",
      "metadata": {
        "id": "P5riQEeRhmHC"
      },
      "source": [
        "## 3. Feature Engineering\n",
        "\n",
        "Once a text feature is preprocessed, each text (document) needs to be encoded as a vector of numbers (called vectorization) since machine learning and deep learning models only understand numbers. The selection of encoding method depends on how text is interpreted.\n",
        "\n",
        "### 3.1 TF-IDF Vcetorization\n",
        "the TF-IDF vetorization encodes one text as a sparse vector of the length of vocabulary. The major difference is that TF-IDF encoded vector records not only the presence information of the corresponding words/tokens in the vocabulary but also the token frequency (TF) weighted by the inverted document frequency (IDF). Because of this, TF-IDF encoded vector has more prediction power then Muti-Hot encoding.\n",
        "\n",
        "The following code shows how to use TF-IDF to encode a given text string as one sparse vector:"
      ],
      "id": "P5riQEeRhmHC"
    },
    {
      "cell_type": "code",
      "execution_count": 19,
      "metadata": {
        "colab": {
          "base_uri": "https://localhost:8080/"
        },
        "id": "UPPf8PvyhmHC",
        "outputId": "9dade059-742e-40ef-f62b-b9be1cd50862"
      },
      "outputs": [
        {
          "output_type": "execute_result",
          "data": {
            "text/plain": [
              "matrix([[0.4771067 , 0.03253   , 0.03253   , 0.03253   , 0.02168667,\n",
              "         0.01084333, 0.02168667, 0.02168667, 0.06506   , 0.06506   ,\n",
              "         0.02168667, 0.02168667, 0.05421667, 0.04337334, 0.01084333,\n",
              "         0.01084333, 0.01084333, 0.01084333, 0.01084333, 0.01084333,\n",
              "         0.01084333, 0.02168667, 0.02168667, 0.02168667, 0.02168667,\n",
              "         0.03253   , 0.02168667, 0.01084333, 0.09759001, 0.01084333,\n",
              "         0.01084333, 0.03253   , 0.04337334, 0.04337334, 0.02168667,\n",
              "         0.02168667, 0.21686668, 0.01084333, 0.01084333, 0.04337334,\n",
              "         0.04337334, 0.01084333, 0.01084333, 0.01084333, 0.01084333,\n",
              "         0.05421667, 0.02168667, 0.01084333, 0.02168667, 0.01084333,\n",
              "         0.01084333, 0.01084333, 0.01084333, 0.04337334, 0.01084333,\n",
              "         0.03253   , 0.02168667, 0.02168667, 0.06506   , 0.03253   ,\n",
              "         0.01084333, 0.02168667, 0.03253   , 0.03253   , 0.10843334,\n",
              "         0.02168667, 0.01084333, 0.01084333, 0.01084333, 0.01084333,\n",
              "         0.03253   , 0.02168667, 0.01084333, 0.02168667, 0.02168667,\n",
              "         0.02168667, 0.02168667, 0.06506   , 0.04337334, 0.02168667,\n",
              "         0.01084333, 0.01084333, 0.01084333, 0.01084333, 0.01084333,\n",
              "         0.01084333, 0.3795167 , 0.04337334, 0.01084333, 0.01084333,\n",
              "         0.01084333, 0.01084333, 0.04337334, 0.04337334, 0.02168667,\n",
              "         0.02168667, 0.01084333, 0.01084333, 0.02168667, 0.01084333,\n",
              "         0.01084333, 0.10843334, 0.03253   , 0.01084333, 0.03253   ,\n",
              "         0.03253   , 0.05421667, 0.01084333, 0.04337334, 0.02168667,\n",
              "         0.01084333, 0.01084333, 0.02168667, 0.02168667, 0.03253   ,\n",
              "         0.03253   , 0.06506   , 0.06506   , 0.06506   , 0.02168667,\n",
              "         0.02168667, 0.02168667, 0.09759001, 0.02168667, 0.02168667,\n",
              "         0.05421667, 0.04337334, 0.01084333, 0.02168667, 0.01084333,\n",
              "         0.01084333, 0.15180668, 0.02168667, 0.01084333, 0.01084333,\n",
              "         0.03253   , 0.03253   , 0.02168667, 0.02168667, 0.04337334,\n",
              "         0.02168667, 0.02168667, 0.01084333, 0.01084333, 0.02168667,\n",
              "         0.02168667, 0.01084333, 0.01084333, 0.01084333, 0.03253   ,\n",
              "         0.02168667, 0.01084333, 0.01084333, 0.01084333, 0.01084333,\n",
              "         0.11927668, 0.03253   , 0.01084333, 0.01084333, 0.01084333,\n",
              "         0.02168667, 0.01084333, 0.01084333, 0.01084333, 0.01084333,\n",
              "         0.02168667, 0.01084333, 0.01084333, 0.02168667, 0.02168667,\n",
              "         0.01084333, 0.01084333, 0.16265001, 0.03253   , 0.01084333,\n",
              "         0.01084333, 0.01084333, 0.02168667, 0.02168667, 0.02168667,\n",
              "         0.01084333, 0.01084333, 0.03253   , 0.03253   , 0.05421667,\n",
              "         0.02168667, 0.03253   , 0.23855335, 0.05421667, 0.02168667,\n",
              "         0.01084333, 0.02168667, 0.01084333, 0.01084333, 0.01084333,\n",
              "         0.01084333, 0.06506   , 0.03253   , 0.02168667, 0.01084333,\n",
              "         0.01084333, 0.01084333, 0.08674667, 0.06506   , 0.01084333,\n",
              "         0.13012001, 0.02168667, 0.02168667, 0.01084333, 0.01084333,\n",
              "         0.01084333, 0.01084333, 0.05421667, 0.01084333, 0.04337334,\n",
              "         0.03253   , 0.03253   , 0.06506   , 0.03253   , 0.03253   ,\n",
              "         0.01084333, 0.01084333, 0.01084333, 0.01084333, 0.01084333,\n",
              "         0.01084333, 0.15180668, 0.08674667, 0.01084333, 0.01084333,\n",
              "         0.03253   , 0.01084333, 0.01084333, 0.01084333, 0.02168667,\n",
              "         0.01084333, 0.01084333, 0.01084333, 0.01084333, 0.01084333,\n",
              "         0.01084333, 0.02168667, 0.02168667, 0.16265001, 0.01084333,\n",
              "         0.01084333, 0.01084333, 0.01084333, 0.01084333, 0.01084333,\n",
              "         0.02168667, 0.02168667, 0.03253   , 0.03253   , 0.07590334,\n",
              "         0.02168667, 0.03253   , 0.01084333, 0.01084333, 0.28192669,\n",
              "         0.06506   , 0.01084333, 0.02168667, 0.02168667, 0.01084333,\n",
              "         0.02168667, 0.02168667, 0.08674667, 0.03253   , 0.01084333,\n",
              "         0.02168667, 0.02168667, 0.05421667, 0.03253   , 0.02168667,\n",
              "         0.04337334, 0.02168667, 0.02168667, 0.20602335, 0.06506   ,\n",
              "         0.01084333, 0.02168667, 0.02168667, 0.01084333, 0.03253   ,\n",
              "         0.03253   , 0.02168667, 0.01084333, 0.01084333, 0.01084333,\n",
              "         0.01084333, 0.03253   , 0.03253   , 0.04337334, 0.02168667,\n",
              "         0.02168667, 0.01084333, 0.01084333, 0.01084333, 0.05421667,\n",
              "         0.02168667, 0.02168667, 0.03253   , 0.02168667, 0.01084333]])"
            ]
          },
          "metadata": {},
          "execution_count": 19
        }
      ],
      "source": [
        "from sklearn.feature_extraction.text import TfidfTransformer\n",
        "\n",
        "# TF-IDF encoding\n",
        "text_array = df['transcription'].values[0:1]\n",
        "tfidf = TfidfVectorizer(tokenizer=clean_text, ngram_range=(1,3))\n",
        "tfidf_encoded_text = tfidf.fit_transform(text_array)\n",
        "\n",
        "features_arr=tfidf_encoded_text.toarray()\n",
        "tfidf_encoded_text.todense()"
      ],
      "id": "UPPf8PvyhmHC"
    },
    {
      "cell_type": "code",
      "source": [
        ""
      ],
      "metadata": {
        "id": "ZXEfNfbW6JzC"
      },
      "id": "ZXEfNfbW6JzC",
      "execution_count": null,
      "outputs": []
    },
    {
      "cell_type": "code",
      "execution_count": null,
      "metadata": {
        "id": "JZjmdqFkhmHC"
      },
      "outputs": [],
      "source": [
        "from sklearn.preprocessing import LabelEncoder\n",
        "from sklearn.decomposition import PCA\n",
        "from imblearn.over_sampling import SMOTE\n",
        "\n",
        "def tfidf_pca(X_feature, y_label):\n",
        "    '''\n",
        "    X_feature = df['transcription'].values\n",
        "    y_label = df['medical_specialty'].values\n",
        "    '''\n",
        "    \n",
        "    le = LabelEncoder()\n",
        "    y_int = le.fit_transform(y_label)\n",
        "\n",
        "    tfidf = TfidfVectorizer(tokenizer=clean_text, ngram_range=(1,3))\n",
        "    pca = PCA(n_components=0.95)\n",
        "    X_tfidf = tfidf.fit_transform(X_feature)\n",
        "    X_pca = pca.fit_transform(X_tfidf.toarray())\n",
        "\n",
        "    smote_over_sample = SMOTE(sampling_strategy='minority')\n",
        "\n",
        "    X, y = smote_over_sample.fit_resample(X_pca, y_int.tolist())\n",
        "\n",
        "    X = np.array(X)\n",
        "    y = np.array(y)\n",
        "    \n",
        "    return X, y"
      ],
      "id": "JZjmdqFkhmHC"
    },
    {
      "cell_type": "code",
      "source": [
        "from sklearn.preprocessing import LabelEncoder\n",
        "from sklearn.decomposition import PCA\n",
        "from imblearn.over_sampling import SMOTE\n",
        "\n",
        "def VmD_func(X_feature, y_label):\n",
        "    '''\n",
        "    X_feature = df['transcription'].values\n",
        "    y_label = df['medical_specialty'].values\n",
        "    '''\n",
        "    \n",
        "    le = LabelEncoder()\n",
        "    y_int = le.fit_transform(y_label)\n",
        "    y_int_1=y_int.tolist()\n",
        "    tfidf = TfidfVectorizer(tokenizer=clean_text, ngram_range=(1,3))\n",
        "    #pca = PCA(n_components=0.95)\n",
        "    X_tfidf = tfidf.fit_transform(X_feature)\n",
        "    features_arr=X_tfidf.toarray()\n",
        "    #X_pca = pca.fit_transform(X_tfidf.toarray())\n",
        "\n",
        "    #smote_over_sample = SMOTE(sampling_strategy='minority')\n",
        "\n",
        "    X = []\n",
        "    for i in features_arr:\n",
        "        X.append(maxvdm(i))\n",
        "\n",
        "    #X, y = smote_over_sample.fit_resample(features_arr, y_int.tolist())\n",
        "\n",
        "   \n",
        "\n",
        "    X = np.array(X)\n",
        "    y = np.array(y_int_1)\n",
        "\n",
        "\n",
        "    \n",
        "    return X, y"
      ],
      "metadata": {
        "id": "ghJen2W2Nwsc"
      },
      "id": "ghJen2W2Nwsc",
      "execution_count": 27,
      "outputs": []
    },
    {
      "cell_type": "markdown",
      "source": [
        "## VMD"
      ],
      "metadata": {
        "id": "iQHZdnuJIdho"
      },
      "id": "iQHZdnuJIdho"
    },
    {
      "cell_type": "code",
      "source": [
        "pip install vmdpy"
      ],
      "metadata": {
        "colab": {
          "base_uri": "https://localhost:8080/"
        },
        "id": "TwEx97fVIk9x",
        "outputId": "655780e9-06d4-4647-ad44-57e15ec12332"
      },
      "id": "TwEx97fVIk9x",
      "execution_count": 21,
      "outputs": [
        {
          "output_type": "stream",
          "name": "stdout",
          "text": [
            "Collecting vmdpy\n",
            "  Downloading vmdpy-0.2-py2.py3-none-any.whl (6.5 kB)\n",
            "Requirement already satisfied: numpy in /usr/local/lib/python3.7/dist-packages (from vmdpy) (1.21.6)\n",
            "Installing collected packages: vmdpy\n",
            "Successfully installed vmdpy-0.2\n"
          ]
        }
      ]
    },
    {
      "cell_type": "code",
      "source": [
        "from vmdpy import VMD"
      ],
      "metadata": {
        "id": "jf6C1eJrIdB4"
      },
      "id": "jf6C1eJrIdB4",
      "execution_count": 22,
      "outputs": []
    },
    {
      "cell_type": "code",
      "source": [
        "import scipy.signal\n",
        "def energy(u):\n",
        "# Estimate PSD `S_xx_welch` at discrete frequencies `f_welch`\n",
        "    f_welch, S_xx_welch = scipy.signal.welch(u)\n",
        "\n",
        "    # Integrate PSD over spectral bandwidth\n",
        "    # to obtain signal power `P_welch`\n",
        "    df_welch = f_welch[1] - f_welch[0]\n",
        "    return np.sum(S_xx_welch) * df_welch"
      ],
      "metadata": {
        "id": "jEaI0FdfJms3"
      },
      "id": "jEaI0FdfJms3",
      "execution_count": 26,
      "outputs": []
    },
    {
      "cell_type": "code",
      "source": [
        "def maxvdm(f):\n",
        "    alpha = 2     \n",
        "    tau = 0.            \n",
        "    K = 2       \n",
        "    DC = 0             \n",
        "    init = 1           \n",
        "    tol = 1e-7  \n",
        "    u, u_hat, omega = VMD(f, alpha, tau, K, DC, init, tol) \n",
        "    energy_array=[]\n",
        "    for i in u:\n",
        "        energy_array.append(energy(i))\n",
        "    ind = np.argmax(energy_array)\n",
        "    return u[ind]"
      ],
      "metadata": {
        "id": "UMV5gIHIIp4L"
      },
      "id": "UMV5gIHIIp4L",
      "execution_count": 23,
      "outputs": []
    },
    {
      "cell_type": "code",
      "source": [
        "#X_data = []\n",
        "#for i in features_arr:\n",
        "#    X_data.append(maxvdm(i))"
      ],
      "metadata": {
        "id": "LFfwo8WwIp2D"
      },
      "id": "LFfwo8WwIp2D",
      "execution_count": null,
      "outputs": []
    },
    {
      "cell_type": "markdown",
      "metadata": {
        "id": "ZASFMp9ohmHD"
      },
      "source": [
        "### 3.2 Word Embedding\n",
        "\n",
        "If a text is treated as a sequence of words, we can use the following common methods to convert each word in a text as one vector and the whole text as an array of vectors:\n",
        "\n",
        "* Word Embedding: encode each word as a dense vector of much shorter length (typically 250, 500, or 1,000) \n",
        "\n",
        "\n",
        "Given a text/document, there are two steps to map it to a dense vector of a given size:\n",
        "* Step 1: convert the text into a vector of word/token indicies in the vocabulary\n",
        "* Step 2: use a custom trained or pre-trained word embedding algorithm (e.g., Word2Vec and GloVe) to convert each word index into a dense vector of float numbers\n",
        "\n"
      ],
      "id": "ZASFMp9ohmHD"
    },
    {
      "cell_type": "code",
      "execution_count": null,
      "metadata": {
        "id": "3tjMT8ePhmHD"
      },
      "outputs": [],
      "source": [
        "from tensorflow.keras import layers\n",
        "\n",
        "def indecies_vectorize(X_feature, y_label, max_length = 1500, max_tokens = MAX_TOKENS):\n",
        "    '''\n",
        "    X_feature: df['transcription'].values\n",
        "    max_length: maximum number of words in one text/document\n",
        "    max_tokens: the length of vocabulary\n",
        "    '''\n",
        "    \n",
        "    le = LabelEncoder()\n",
        "    y_int = le.fit_transform(y_label)\n",
        "    \n",
        "    text_vectorization = layers.TextVectorization(\n",
        "        max_tokens=max_tokens,\n",
        "        output_mode=\"int\",\n",
        "        output_sequence_length=max_length,\n",
        "    )\n",
        "\n",
        "    # training the text vectorization object\n",
        "    text_vectorization.adapt(X_feature) \n",
        "    # convert preprocessed training text into anrray of integers/indecies\n",
        "    indecies_array = text_vectorization(X_feature) \n",
        "    \n",
        "    smote_over_sample = SMOTE(sampling_strategy='minority')\n",
        "    X, y = smote_over_sample.fit_resample(indecies_array, y_int)\n",
        "    \n",
        "    X = np.array(X)\n",
        "    y = np.array(y)\n",
        "\n",
        "    return X, y"
      ],
      "id": "3tjMT8ePhmHD"
    },
    {
      "cell_type": "markdown",
      "metadata": {
        "id": "V11W9IgFhmHD"
      },
      "source": [
        "The code below shows how to use a custom trained word embedding layer from Keras to encode a vector of word indices as a sequence of dense vectors of length 250."
      ],
      "id": "V11W9IgFhmHD"
    },
    {
      "cell_type": "code",
      "execution_count": null,
      "metadata": {
        "id": "63HBrZJbhmHD"
      },
      "outputs": [],
      "source": [
        "import keras\n",
        "\n",
        "\n",
        "def embedd():\n",
        "  # create input layer\n",
        "    inputs = keras.Input(shape=(None,), dtype=\"int64\")\n",
        "\n",
        "# add word embedding layer\n",
        "    embedded = layers.Embedding(input_dim=MAX_TOKENS, output_dim=256, mask_zero=True)(inputs)\n",
        "  "
      ],
      "id": "63HBrZJbhmHD"
    },
    {
      "cell_type": "markdown",
      "metadata": {
        "id": "I2Nh2XR-hmHD"
      },
      "source": [
        "### 3.3 Positional Embedding \n",
        "\n"
      ],
      "id": "I2Nh2XR-hmHD"
    },
    {
      "cell_type": "code",
      "execution_count": null,
      "metadata": {
        "id": "CGJEsEcVhmHD"
      },
      "outputs": [],
      "source": [
        "class PositionalEmbedding(layers.Layer):\n",
        "    def __init__(self, sequence_length, input_dim, output_dim, **kwargs):\n",
        "        super().__init__(**kwargs)\n",
        "        self.token_embeddings = layers.Embedding(\n",
        "            input_dim=input_dim, output_dim=output_dim)\n",
        "        \n",
        "        self.position_embeddings = layers.Embedding(\n",
        "            input_dim=sequence_length, output_dim=output_dim)\n",
        "        \n",
        "        self.sequence_length = sequence_length\n",
        "        self.input_dim = input_dim\n",
        "        self.output_dim = output_dim\n",
        "\n",
        "    def call(self, inputs):\n",
        "        length = tf.shape(inputs)[-1]\n",
        "        positions = tf.range(start=0, limit=length, delta=1)\n",
        "        embedded_tokens = self.token_embeddings(inputs)\n",
        "        embedded_positions = self.position_embeddings(positions)\n",
        "        return embedded_tokens + embedded_positions\n",
        "\n",
        "    def compute_mask(self, inputs, mask=None):\n",
        "        return tf.math.not_equal(inputs, 0)\n",
        "\n",
        "    def get_config(self):\n",
        "        config = super().get_config()\n",
        "        config.update({\n",
        "            \"output_dim\": self.output_dim,\n",
        "            \"sequence_length\": self.sequence_length,\n",
        "            \"input_dim\": self.input_dim,\n",
        "        })\n",
        "        return config"
      ],
      "id": "CGJEsEcVhmHD"
    },
    {
      "cell_type": "markdown",
      "metadata": {
        "id": "-wwUNm0UhmHE"
      },
      "source": [
        "The table below is a summary of the selections of different text encoding methods.\n",
        "\n",
        "| Text Treatment Methods| Text Encoding Methods|\n",
        "|:---|:---|\n",
        "|Bag of Words |TF-IDF |\n",
        "|Sequence of Words |Word Embedding |\n",
        "|Sequence of Words |Positional Embedding |"
      ],
      "id": "-wwUNm0UhmHE"
    },
    {
      "cell_type": "markdown",
      "metadata": {
        "id": "EJ8Ugzi7hmHE"
      },
      "source": [
        "## 4. Model Selection\n",
        "\n",
        "Similarly to the selection of text encoding methods, the selection of a machine learning or deep learning model for text classification depends on how text is encoded. Specifically, we can select a model as shown in the table below:\n",
        "\n",
        "|Text Encoding Methods |Machine Learning or Deep Learning Models |\n",
        "|:---|:---|\n",
        "|TF-IDF |Any non-sequence classification model such as Logistic Regression, XGBoost, Random Forest, MLP, etc. |\n",
        "|Multi-Hot |Any non-sequence classification model such as Logistic Regression, XGBoost, Random Forest, MLP, etc. |\n",
        "|Word Embedding |Any sequence classification model such as LSTM, GRU, etc. |\n",
        "|One-Hot Encoding |Any sequence classification model such as LSTM, GRU, etc. |\n",
        "|Positional Embedding |Transformer |\n",
        "\n",
        "The TransformerEncoder class below implements an attention-based transformer "
      ],
      "id": "EJ8Ugzi7hmHE"
    },
    {
      "cell_type": "code",
      "execution_count": null,
      "metadata": {
        "id": "GYHH3fk5hmHE"
      },
      "outputs": [],
      "source": [
        "import tensorflow as tf\n",
        "from tensorflow import keras\n",
        "from tensorflow.keras import layers\n",
        "\n",
        "class TransformerEncoder(layers.Layer):\n",
        "    def __init__(self, embed_dim, dense_dim, num_heads, **kwargs):\n",
        "        super().__init__(**kwargs)\n",
        "        self.embed_dim = embed_dim\n",
        "        self.dense_dim = dense_dim\n",
        "        self.num_heads = num_heads\n",
        "        self.attention = layers.MultiHeadAttention(\n",
        "            num_heads=num_heads, key_dim=embed_dim)\n",
        "        self.dense_proj = keras.Sequential(\n",
        "            [layers.Dense(dense_dim, activation=\"relu\"),\n",
        "             layers.Dense(embed_dim),]\n",
        "        )\n",
        "        self.layernorm_1 = layers.LayerNormalization()\n",
        "        self.layernorm_2 = layers.LayerNormalization()\n",
        "\n",
        "    def call(self, inputs, mask=None):\n",
        "        if mask is not None:\n",
        "            mask = mask[:, tf.newaxis, :]\n",
        "        attention_output = self.attention(\n",
        "            inputs, inputs, attention_mask=mask)\n",
        "        proj_input = self.layernorm_1(inputs + attention_output)\n",
        "        proj_output = self.dense_proj(proj_input)\n",
        "        return self.layernorm_2(proj_input + proj_output)\n",
        "\n",
        "    def get_config(self):\n",
        "        config = super().get_config()\n",
        "        config.update({\n",
        "            \"embed_dim\": self.embed_dim,\n",
        "            \"num_heads\": self.num_heads,\n",
        "            \"dense_dim\": self.dense_dim,\n",
        "        })\n",
        "        return config"
      ],
      "id": "GYHH3fk5hmHE"
    },
    {
      "cell_type": "markdown",
      "metadata": {
        "id": "AXuaghj_hmHE"
      },
      "source": [
        "\n",
        "## 5. Model Training\n",
        "\n",
        "Typically we need to split the dataset into training, validation, and testing subsets before model training begins. For simplicity, the dataset is only split into two subsets in this article: one for model training and the other for model testing/evaluation.  "
      ],
      "id": "AXuaghj_hmHE"
    },
    {
      "cell_type": "code",
      "execution_count": null,
      "metadata": {
        "colab": {
          "base_uri": "https://localhost:8080/"
        },
        "id": "JjoBtu3bhmHE",
        "outputId": "cd8ad5b2-0503-4cfb-c096-8feed2873ae0"
      },
      "outputs": [
        {
          "output_type": "execute_result",
          "data": {
            "text/plain": [
              "((3159, 1500), (1053, 1500), (3159,), (1053,))"
            ]
          },
          "metadata": {},
          "execution_count": 26
        }
      ],
      "source": [
        "from sklearn.model_selection import train_test_split\n",
        "\n",
        "X_feature = df['transcription'].values\n",
        "y_label = df['medical_specialty'].values\n",
        "\n",
        "if SEQUENCE_MODEL:\n",
        "    X, y = indecies_vectorize(X_feature, y_label)\n",
        "else:   \n",
        "    X, y = tfidf_pca(X_feature, y_label)\n",
        "\n",
        "X_train, X_test, y_train, y_test = train_test_split(X, y, test_size=0.25, random_state=42)\n",
        "X_train.shape, X_test.shape, y_train.shape, y_test.shape"
      ],
      "id": "JjoBtu3bhmHE"
    },
    {
      "cell_type": "markdown",
      "source": [
        "## Normal and vmd compare Training"
      ],
      "metadata": {
        "id": "qZUo6Z6-LGQI"
      },
      "id": "qZUo6Z6-LGQI"
    },
    {
      "cell_type": "code",
      "source": [
        "from sklearn.model_selection import train_test_split\n",
        "\n",
        "X_feature = df['transcription'].values\n",
        "y_label = df['medical_specialty'].values\n",
        "\n",
        "if SEQUENCE_MODEL:\n",
        "    X, y = indecies_vectorize(X_feature, y_label)\n",
        "else:   \n",
        "    X, y = VmD_func(X_feature, y_label)\n",
        "\n",
        "X_train, X_test, y_train, y_test = train_test_split(X, y, test_size=0.25, random_state=42)\n",
        "X_train.shape, X_test.shape, y_train.shape, y_test.shape"
      ],
      "metadata": {
        "colab": {
          "base_uri": "https://localhost:8080/"
        },
        "id": "0ujPKCH6LFoH",
        "outputId": "0d3b2791-fef2-48f7-e653-797cf683673d"
      },
      "id": "0ujPKCH6LFoH",
      "execution_count": 28,
      "outputs": [
        {
          "output_type": "stream",
          "name": "stderr",
          "text": [
            "/usr/local/lib/python3.7/dist-packages/vmdpy/vmdpy.py:105: RuntimeWarning: invalid value encountered in double_scalars\n",
            "  omega_plus[n+1,k] = np.dot(freqs[T//2:T],(abs(u_hat_plus[n+1, T//2:T, k])**2))/np.sum(abs(u_hat_plus[n+1,T//2:T,k])**2)\n",
            "/usr/local/lib/python3.7/dist-packages/vmdpy/vmdpy.py:114: RuntimeWarning: invalid value encountered in double_scalars\n",
            "  omega_plus[n+1,k] = np.dot(freqs[T//2:T],(abs(u_hat_plus[n+1, T//2:T, k])**2))/np.sum(abs(u_hat_plus[n+1,T//2:T,k])**2)\n"
          ]
        },
        {
          "output_type": "execute_result",
          "data": {
            "text/plain": [
              "((2459, 8380), (820, 8380), (2459,), (820,))"
            ]
          },
          "metadata": {},
          "execution_count": 28
        }
      ]
    },
    {
      "cell_type": "markdown",
      "metadata": {
        "id": "unE2R6vKhmHF"
      },
      "source": [
        "### 5.1 Non-Sequence Modeling with TF-IDF\n",
        "\n",
        "In this article I use Random Forest with TF-IDF encoding to demonstrate how to perform non-sequence modeling for text classification (see the code below)."
      ],
      "id": "unE2R6vKhmHF"
    },
    {
      "cell_type": "code",
      "execution_count": 31,
      "metadata": {
        "id": "NEntjMEBhmHF"
      },
      "outputs": [],
      "source": [
        "from sklearn.pipeline import Pipeline\n",
        "from sklearn.ensemble import RandomForestClassifier\n",
        "from sklearn.decomposition import PCA\n",
        "\n",
        "if not SEQUENCE_MODEL:\n",
        "    rf_clf = RandomForestClassifier(n_estimators=200, max_depth=10)\n",
        "    rf_clf.fit(X_train, y_train)\n"
      ],
      "id": "NEntjMEBhmHF"
    },
    {
      "cell_type": "code",
      "execution_count": 33,
      "metadata": {
        "id": "rrfwbUpehmHF"
      },
      "outputs": [],
      "source": [
        "from sklearn.linear_model import LogisticRegression\n",
        "\n",
        "if not SEQUENCE_MODEL:\n",
        "    logistic_clf = LogisticRegression(penalty= 'elasticnet', solver= 'saga', l1_ratio=0.5, random_state=1)\n",
        "    logistic_clf.fit(X_train, y_train)\n"
      ],
      "id": "rrfwbUpehmHF"
    },
    {
      "cell_type": "code",
      "execution_count": 34,
      "metadata": {
        "id": "-ZcKICX3hmHF"
      },
      "outputs": [],
      "source": [
        "from sklearn.multioutput import MultiOutputClassifier\n",
        "from sklearn.neighbors import KNeighborsClassifier\n",
        "\n",
        "if not SEQUENCE_MODEL:\n",
        "    multi_class_clf = MultiOutputClassifier(KNeighborsClassifier())\n",
        "    y_train = y_train.reshape(-1, 1)\n",
        "    multi_class_clf.fit(X_train, y_train)\n"
      ],
      "id": "-ZcKICX3hmHF"
    },
    {
      "cell_type": "markdown",
      "metadata": {
        "id": "gd5qinwPhmHF"
      },
      "source": [
        "### 5.2 Sequence Modeling Using LSTM with Word Embedding\n",
        "\n",
        "In this article I use LSTM with custom word embedding to demonstrate how to perform sequence modeling for text classification (see code below)."
      ],
      "id": "gd5qinwPhmHF"
    },
    {
      "cell_type": "code",
      "execution_count": null,
      "metadata": {
        "id": "O2xZQ5Y4hmHF",
        "colab": {
          "base_uri": "https://localhost:8080/"
        },
        "outputId": "446e1a5c-24f3-4081-e41e-199b57347706"
      },
      "outputs": [
        {
          "output_type": "stream",
          "name": "stdout",
          "text": [
            "Found 400000 word vectors.\n"
          ]
        }
      ],
      "source": [
        "import numpy as np\n",
        "path_to_glove_file = \"/content/gdrive/MyDrive/DLforSIP/NLP/glove.6B.100d.txt\"\n",
        "\n",
        "embeddings_index = {}\n",
        "with open(path_to_glove_file) as f:\n",
        "    for line in f:\n",
        "        word, coefs = line.split(maxsplit=1)\n",
        "        coefs = np.fromstring(coefs, \"f\", sep=\" \")\n",
        "        embeddings_index[word] = coefs\n",
        "\n",
        "print(f\"Found {len(embeddings_index)} word vectors.\")"
      ],
      "id": "O2xZQ5Y4hmHF"
    },
    {
      "cell_type": "code",
      "execution_count": null,
      "metadata": {
        "id": "ST9BaaZFhmHF"
      },
      "outputs": [],
      "source": [
        "embedding_dim = 100\n",
        "\n",
        "text_vectorization = layers.TextVectorization(\n",
        "        max_tokens=MAX_TOKENS,\n",
        "        output_mode=\"int\",\n",
        "        output_sequence_length=MAX_LENGTH,\n",
        "    )\n",
        "\n",
        "vocabulary = text_vectorization.get_vocabulary()\n",
        "word_index = dict(zip(vocabulary, range(len(vocabulary))))\n",
        "\n",
        "embedding_matrix = np.zeros((MAX_TOKENS, embedding_dim))\n",
        "for word, i in word_index.items():\n",
        "    if i < MAX_TOKENS:\n",
        "        embedding_vector = embeddings_index.get(word)\n",
        "    if embedding_vector is not None:\n",
        "        embedding_matrix[i] = embedding_vector"
      ],
      "id": "ST9BaaZFhmHF"
    },
    {
      "cell_type": "code",
      "execution_count": null,
      "metadata": {
        "id": "vcs43QwHhmHG"
      },
      "outputs": [],
      "source": [
        "embedding_layer = layers.Embedding(\n",
        "    MAX_TOKENS,\n",
        "    embedding_dim,\n",
        "    embeddings_initializer=keras.initializers.Constant(embedding_matrix),\n",
        "    trainable=False,\n",
        "    mask_zero=True,\n",
        ")"
      ],
      "id": "vcs43QwHhmHG"
    },
    {
      "cell_type": "code",
      "source": [
        "import gc\n",
        "gc.collect()"
      ],
      "metadata": {
        "colab": {
          "base_uri": "https://localhost:8080/"
        },
        "id": "LYvON_Z_5Msl",
        "outputId": "dfc3f5fa-d1f8-4669-fb1d-bc14cc817b0e"
      },
      "id": "LYvON_Z_5Msl",
      "execution_count": null,
      "outputs": [
        {
          "output_type": "execute_result",
          "data": {
            "text/plain": [
              "1027"
            ]
          },
          "metadata": {},
          "execution_count": 30
        }
      ]
    },
    {
      "cell_type": "code",
      "execution_count": null,
      "metadata": {
        "id": "W8voEuSBhmHG",
        "colab": {
          "base_uri": "https://localhost:8080/"
        },
        "outputId": "599049ac-31fb-4cb8-c79e-4bae0e10980b"
      },
      "outputs": [
        {
          "output_type": "stream",
          "name": "stdout",
          "text": [
            "Model: \"model_2\"\n",
            "_________________________________________________________________\n",
            " Layer (type)                Output Shape              Param #   \n",
            "=================================================================\n",
            " input_3 (InputLayer)        [(None, None)]            0         \n",
            "                                                                 \n",
            " embedding (Embedding)       (None, None, 100)         2000000   \n",
            "                                                                 \n",
            " bidirectional_1 (Bidirectio  (None, 64)               34048     \n",
            " nal)                                                            \n",
            "                                                                 \n",
            " dropout_2 (Dropout)         (None, 64)                0         \n",
            "                                                                 \n",
            " dense_4 (Dense)             (None, 9)                 585       \n",
            "                                                                 \n",
            "=================================================================\n",
            "Total params: 2,034,633\n",
            "Trainable params: 34,633\n",
            "Non-trainable params: 2,000,000\n",
            "_________________________________________________________________\n",
            "Epoch 1/10\n",
            "99/99 [==============================] - 562s 6s/step - loss: 2.0222 - accuracy: 0.2688\n",
            "Epoch 2/10\n",
            "99/99 [==============================] - 588s 6s/step - loss: 1.9919 - accuracy: 0.2494\n",
            "Epoch 3/10\n",
            "99/99 [==============================] - 530s 5s/step - loss: 1.9848 - accuracy: 0.2669\n",
            "Epoch 4/10\n",
            "99/99 [==============================] - 551s 6s/step - loss: 1.9872 - accuracy: 0.2472\n",
            "Epoch 5/10\n",
            "99/99 [==============================] - 526s 5s/step - loss: 1.9811 - accuracy: 0.2482\n",
            "Epoch 6/10\n",
            "99/99 [==============================] - 538s 5s/step - loss: 1.9842 - accuracy: 0.2643\n",
            "Epoch 7/10\n",
            "99/99 [==============================] - 550s 6s/step - loss: 1.9792 - accuracy: 0.2659\n",
            "Epoch 8/10\n",
            "99/99 [==============================] - 573s 6s/step - loss: 1.9818 - accuracy: 0.2501\n",
            "Epoch 9/10\n",
            "99/99 [==============================] - 571s 6s/step - loss: 1.9810 - accuracy: 0.2539\n",
            "Epoch 10/10\n",
            "99/99 [==============================] - 518s 5s/step - loss: 1.9728 - accuracy: 0.2586\n"
          ]
        }
      ],
      "source": [
        "import keras\n",
        "\n",
        "def create_lstm_model(embedding_layer = None):\n",
        "    # create input layer\n",
        "    inputs = keras.Input(shape=(None,), dtype=\"int64\")\n",
        "\n",
        "    # add word embedding layer\n",
        "    if embedding_layer is not None:\n",
        "        embedded = embedding_layer(inputs)\n",
        "    else:\n",
        "        embedded = layers.Embedding(input_dim=MAX_TOKENS, output_dim=256, mask_zero=True)(inputs)\n",
        "\n",
        "    # add LSTM layer\n",
        "    x = layers.Bidirectional(layers.LSTM(32))(embedded)\n",
        "\n",
        "    # add dropout layer\n",
        "    x = layers.Dropout(0.5)(x)\n",
        "\n",
        "    # add output layer\n",
        "    outputs = layers.Dense(9, activation=\"softmax\")(x)\n",
        "\n",
        "    # combine all layers into one model\n",
        "    lstm_model = keras.Model(inputs, outputs)\n",
        "\n",
        "    # specifiy optimizer, loss, and metrics for the model\n",
        "    lstm_model.compile(optimizer=\"rmsprop\",\n",
        "                  loss=\"sparse_categorical_crossentropy\",\n",
        "                  metrics=[\"accuracy\"])\n",
        "\n",
        "    # print the summay of the model architecture\n",
        "    lstm_model.summary()\n",
        "    \n",
        "    return lstm_model\n",
        "\n",
        "\n",
        "if SEQUENCE_MODEL:\n",
        "    if USE_GROVE:\n",
        "        lstm_model = create_lstm_model(embedding_layer)\n",
        "    else:\n",
        "        lstm_model = create_lstm_model()\n",
        "    \n",
        "    # define callback function\n",
        "    callbacks = [\n",
        "        keras.callbacks.ModelCheckpoint(\"embeddings_bidir_gru_with_masking.keras\",\n",
        "                                        save_best_only=False)\n",
        "    ]\n",
        "\n",
        "    # train model\n",
        "    lstm_model.fit(X_train, y_train, epochs=10, callbacks=callbacks)"
      ],
      "id": "W8voEuSBhmHG"
    },
    {
      "cell_type": "code",
      "source": [
        "import gc\n",
        "gc.collect()"
      ],
      "metadata": {
        "colab": {
          "base_uri": "https://localhost:8080/"
        },
        "id": "h5jZE4Jkx2-l",
        "outputId": "f3c2ad48-b2d3-4517-cb44-49fd35d07faa"
      },
      "id": "h5jZE4Jkx2-l",
      "execution_count": null,
      "outputs": [
        {
          "output_type": "execute_result",
          "data": {
            "text/plain": [
              "1474"
            ]
          },
          "metadata": {},
          "execution_count": 41
        }
      ]
    },
    {
      "cell_type": "markdown",
      "metadata": {
        "id": "VoqMpukghmHG"
      },
      "source": [
        "### 5.3 Sequence Modeling with Transformer\n",
        "\n",
        "Recently the attention-based Transformer algorithm becomes a preferred algorithm over LSTM for sequence modeling. The code below uses the Transformer algorithm with positional embedding "
      ],
      "id": "VoqMpukghmHG"
    },
    {
      "cell_type": "code",
      "execution_count": null,
      "metadata": {
        "id": "69RX-6HthmHG",
        "colab": {
          "base_uri": "https://localhost:8080/"
        },
        "outputId": "aed498f8-fc06-4b77-c159-4572a9de8246"
      },
      "outputs": [
        {
          "output_type": "stream",
          "name": "stdout",
          "text": [
            "Model: \"model_1\"\n",
            "_________________________________________________________________\n",
            " Layer (type)                Output Shape              Param #   \n",
            "=================================================================\n",
            " input_2 (InputLayer)        [(None, None)]            0         \n",
            "                                                                 \n",
            " positional_embedding (Posit  (None, None, 256)        5504000   \n",
            " ionalEmbedding)                                                 \n",
            "                                                                 \n",
            " transformer_encoder (Transf  (None, None, 256)        543776    \n",
            " ormerEncoder)                                                   \n",
            "                                                                 \n",
            " global_max_pooling1d (Globa  (None, 256)              0         \n",
            " lMaxPooling1D)                                                  \n",
            "                                                                 \n",
            " dropout_1 (Dropout)         (None, 256)               0         \n",
            "                                                                 \n",
            " dense_3 (Dense)             (None, 9)                 2313      \n",
            "                                                                 \n",
            "=================================================================\n",
            "Total params: 6,050,089\n",
            "Trainable params: 6,050,089\n",
            "Non-trainable params: 0\n",
            "_________________________________________________________________\n",
            "Epoch 1/30\n",
            "99/99 [==============================] - 23s 215ms/step - loss: 2.4399 - accuracy: 0.2976\n",
            "Epoch 2/30\n",
            "99/99 [==============================] - 21s 217ms/step - loss: 1.3530 - accuracy: 0.5176\n",
            "Epoch 3/30\n",
            "99/99 [==============================] - 22s 219ms/step - loss: 0.9873 - accuracy: 0.6100\n",
            "Epoch 4/30\n",
            "99/99 [==============================] - 22s 221ms/step - loss: 0.8152 - accuracy: 0.6524\n",
            "Epoch 5/30\n",
            "99/99 [==============================] - 22s 222ms/step - loss: 0.7307 - accuracy: 0.6714\n",
            "Epoch 6/30\n",
            "99/99 [==============================] - 22s 224ms/step - loss: 0.6620 - accuracy: 0.6885\n",
            "Epoch 7/30\n",
            "99/99 [==============================] - 22s 224ms/step - loss: 0.6315 - accuracy: 0.6942\n",
            "Epoch 8/30\n",
            "99/99 [==============================] - 22s 224ms/step - loss: 0.5898 - accuracy: 0.7176\n",
            "Epoch 9/30\n",
            "99/99 [==============================] - 22s 224ms/step - loss: 0.5622 - accuracy: 0.7198\n",
            "Epoch 10/30\n",
            "99/99 [==============================] - 22s 224ms/step - loss: 0.5513 - accuracy: 0.7214\n",
            "Epoch 11/30\n",
            "99/99 [==============================] - 22s 225ms/step - loss: 0.5385 - accuracy: 0.7221\n",
            "Epoch 12/30\n",
            "99/99 [==============================] - 22s 225ms/step - loss: 0.5126 - accuracy: 0.7265\n",
            "Epoch 13/30\n",
            "99/99 [==============================] - 22s 226ms/step - loss: 0.5118 - accuracy: 0.7208\n",
            "Epoch 14/30\n",
            "99/99 [==============================] - 22s 225ms/step - loss: 0.4958 - accuracy: 0.7328\n",
            "Epoch 15/30\n",
            "99/99 [==============================] - 22s 226ms/step - loss: 0.4794 - accuracy: 0.7379\n",
            "Epoch 16/30\n",
            "99/99 [==============================] - 22s 226ms/step - loss: 0.4697 - accuracy: 0.7344\n",
            "Epoch 17/30\n",
            "99/99 [==============================] - 22s 227ms/step - loss: 0.4764 - accuracy: 0.7344\n",
            "Epoch 18/30\n",
            "99/99 [==============================] - 22s 227ms/step - loss: 0.4582 - accuracy: 0.7423\n",
            "Epoch 19/30\n",
            "99/99 [==============================] - 22s 226ms/step - loss: 0.4554 - accuracy: 0.7328\n",
            "Epoch 20/30\n",
            "99/99 [==============================] - 22s 226ms/step - loss: 0.4533 - accuracy: 0.7312\n",
            "Epoch 21/30\n",
            "99/99 [==============================] - 22s 226ms/step - loss: 0.4368 - accuracy: 0.7499\n",
            "Epoch 22/30\n",
            "99/99 [==============================] - 22s 226ms/step - loss: 0.4351 - accuracy: 0.7474\n",
            "Epoch 23/30\n",
            "99/99 [==============================] - 22s 226ms/step - loss: 0.4256 - accuracy: 0.7537\n",
            "Epoch 24/30\n",
            "99/99 [==============================] - 22s 227ms/step - loss: 0.4269 - accuracy: 0.7594\n",
            "Epoch 25/30\n",
            "99/99 [==============================] - 22s 227ms/step - loss: 0.4257 - accuracy: 0.7550\n",
            "Epoch 26/30\n",
            "99/99 [==============================] - 22s 227ms/step - loss: 0.4164 - accuracy: 0.7578\n",
            "Epoch 27/30\n",
            "99/99 [==============================] - 22s 227ms/step - loss: 0.4168 - accuracy: 0.7559\n",
            "Epoch 28/30\n",
            "99/99 [==============================] - 22s 227ms/step - loss: 0.4169 - accuracy: 0.7544\n",
            "Epoch 29/30\n",
            "99/99 [==============================] - 22s 227ms/step - loss: 0.4138 - accuracy: 0.7506\n",
            "Epoch 30/30\n",
            "99/99 [==============================] - 22s 227ms/step - loss: 0.4089 - accuracy: 0.7582\n"
          ]
        }
      ],
      "source": [
        "def create_transformer():\n",
        "\n",
        "    vocab_size = 20000\n",
        "    sequence_length = 1500\n",
        "    embed_dim = 256\n",
        "    num_heads = 2\n",
        "    dense_dim = 32\n",
        "\n",
        "    inputs = keras.Input(shape=(None,), dtype=\"int64\")\n",
        "    x = PositionalEmbedding(sequence_length, vocab_size, embed_dim)(inputs)\n",
        "    x = TransformerEncoder(embed_dim, dense_dim, num_heads)(x)\n",
        "    x = layers.GlobalMaxPooling1D()(x)\n",
        "    x = layers.Dropout(0.5)(x)\n",
        "    outputs = layers.Dense(9, activation=\"softmax\")(x)\n",
        "    transformer_model = keras.Model(inputs, outputs)\n",
        "    transformer_model.compile(optimizer=\"rmsprop\",\n",
        "                  loss=\"sparse_categorical_crossentropy\",\n",
        "                  metrics=[\"accuracy\"])\n",
        "    transformer_model.summary()\n",
        "    \n",
        "    return transformer_model\n",
        "\n",
        "if SEQUENCE_MODEL:\n",
        "    transformer_model = create_transformer()\n",
        "\n",
        "    callbacks = [\n",
        "        keras.callbacks.ModelCheckpoint(\"full_transformer_encoder.keras\",\n",
        "                                        save_best_only=False)\n",
        "    ]\n",
        "\n",
        "    transformer_model.fit(X_train, y_train, epochs=30, callbacks=callbacks)\n"
      ],
      "id": "69RX-6HthmHG"
    },
    {
      "cell_type": "code",
      "source": [
        ""
      ],
      "metadata": {
        "id": "bpGEzKTDyxJ8"
      },
      "id": "bpGEzKTDyxJ8",
      "execution_count": null,
      "outputs": []
    },
    {
      "cell_type": "markdown",
      "metadata": {
        "id": "Ljc9zoYGhmHG"
      },
      "source": [
        "## 6. Model Evaluation\n"
      ],
      "id": "Ljc9zoYGhmHG"
    },
    {
      "cell_type": "code",
      "execution_count": 30,
      "metadata": {
        "id": "4x9zpBdXhmHG"
      },
      "outputs": [],
      "source": [
        "from sklearn.metrics import confusion_matrix, ConfusionMatrixDisplay\n",
        "\n",
        "def plot_confusion_matrix(y_test, y_pred, labels):\n",
        "    cm = confusion_matrix(y_test, y_pred, labels=rf_clf.classes_)\n",
        "    disp = ConfusionMatrixDisplay(confusion_matrix=cm, display_labels=rf_clf.classes_) \n",
        "    fig, ax = plt.subplots(figsize=(15,15))\n",
        "    disp.plot(ax=ax)"
      ],
      "id": "4x9zpBdXhmHG"
    },
    {
      "cell_type": "markdown",
      "metadata": {
        "id": "p4LkGTKWhmHH"
      },
      "source": [
        "### 6.1 Non-Sequence Model Evaluation"
      ],
      "id": "p4LkGTKWhmHH"
    },
    {
      "cell_type": "code",
      "execution_count": null,
      "metadata": {
        "colab": {
          "base_uri": "https://localhost:8080/",
          "height": 886
        },
        "id": "9wsVDvGPhmHH",
        "outputId": "aed3a8a3-0072-4e0c-ca66-84482146d21f"
      },
      "outputs": [
        {
          "output_type": "stream",
          "name": "stdout",
          "text": [
            "Accuracy score:  0.3371320037986705\n",
            "F1 score:  0.30316876310262186\n"
          ]
        },
        {
          "output_type": "display_data",
          "data": {
            "text/plain": [
              "<Figure size 1080x1080 with 2 Axes>"
            ],
            "image/png": "[encoded data removed]"
          },
          "metadata": {
            "needs_background": "light"
          }
        }
      ],
      "source": [
        "if not SEQUENCE_MODEL:\n",
        "    y_pred = rf_clf.predict(X_test)\n",
        "\n",
        "    acc_score = accuracy_score(y_test, y_pred)\n",
        "    print('Accuracy score: ', acc_score)\n",
        "\n",
        "    prec_score = precision_score(y_test, y_pred)\n",
        "    print('Precision score: ', acc_score)\n",
        "\n",
        "    rec_score = recall_score(y_test, y_pred)\n",
        "    print('Recall score: ', rec_score)\n",
        "\n",
        "    f1 = f1_score(y_test, y_pred, average='weighted')\n",
        "    print('F1 score: ', f1)\n",
        "    \n",
        "    plot_confusion_matrix(y_test, y_pred, labels=rf_clf.classes_)"
      ],
      "id": "9wsVDvGPhmHH"
    },
    {
      "cell_type": "code",
      "source": [
        ""
      ],
      "metadata": {
        "id": "o_gU9efJSM-s"
      },
      "id": "o_gU9efJSM-s",
      "execution_count": null,
      "outputs": []
    },
    {
      "cell_type": "code",
      "execution_count": null,
      "metadata": {
        "id": "7EKDc4lIhmHH",
        "outputId": "e5844e50-700e-48d4-8313-9aa87bf9fb83",
        "colab": {
          "base_uri": "https://localhost:8080/",
          "height": 886
        }
      },
      "outputs": [
        {
          "output_type": "stream",
          "name": "stdout",
          "text": [
            "logistic_clf Accuracy score:  0.5802469135802469\n",
            "logistic_clf F1 score:  0.5684990311541539\n"
          ]
        },
        {
          "output_type": "display_data",
          "data": {
            "text/plain": [
              "<Figure size 1080x1080 with 2 Axes>"
            ],
            "image/png": "[encoded data removed]"
          },
          "metadata": {
            "needs_background": "light"
          }
        }
      ],
      "source": [
        "if not SEQUENCE_MODEL:\n",
        "    y_pred = logistic_clf.predict(X_test)\n",
        "\n",
        "    acc_score = accuracy_score(y_test, y_pred)\n",
        "    print('logistic_clf Accuracy score: ', acc_score)\n",
        "\n",
        "    f1 = f1_score(y_test, y_pred, average='weighted')\n",
        "    print('logistic_clf F1 score: ', f1)\n",
        "    \n",
        "    plot_confusion_matrix(y_test, y_pred, labels=logistic_clf.classes_)\n"
      ],
      "id": "7EKDc4lIhmHH"
    },
    {
      "cell_type": "code",
      "execution_count": null,
      "metadata": {
        "id": "azJQrws4hmHH",
        "outputId": "7f95bbae-dced-4273-d884-df2cc77316d0",
        "colab": {
          "base_uri": "https://localhost:8080/",
          "height": 886
        }
      },
      "outputs": [
        {
          "output_type": "stream",
          "name": "stdout",
          "text": [
            "multi_class_clf Accuracy score:  0.4624881291547958\n",
            "multi_class_clf F1 score:  0.4260172639053519\n"
          ]
        },
        {
          "output_type": "display_data",
          "data": {
            "text/plain": [
              "<Figure size 1080x1080 with 2 Axes>"
            ],
            "image/png": "[encoded data removed]"
          },
          "metadata": {
            "needs_background": "light"
          }
        }
      ],
      "source": [
        "if not SEQUENCE_MODEL:\n",
        "    y_test = y_test.reshape(-1, 1)\n",
        "\n",
        "    y_pred = multi_class_clf.predict(X_test)\n",
        "\n",
        "    acc_score = accuracy_score(y_test, y_pred)\n",
        "    print('multi_class_clf Accuracy score: ', acc_score)\n",
        "\n",
        "    f1 = f1_score(y_test, y_pred, average='weighted')\n",
        "    print('multi_class_clf F1 score: ', f1)\n",
        "    \n",
        "    plot_confusion_matrix(y_test, y_pred, labels=multi_class_clf.classes_)\n"
      ],
      "id": "azJQrws4hmHH"
    },
    {
      "cell_type": "markdown",
      "metadata": {
        "id": "n3O-6-BkhmHH"
      },
      "source": [
        "### 6.2 Sequence Model Evaluation"
      ],
      "id": "n3O-6-BkhmHH"
    },
    {
      "cell_type": "code",
      "execution_count": null,
      "metadata": {
        "id": "y746un-0hmHI",
        "colab": {
          "base_uri": "https://localhost:8080/"
        },
        "outputId": "6dbc7d95-d583-4189-c4bb-e67179a2ac89"
      },
      "outputs": [
        {
          "output_type": "stream",
          "name": "stdout",
          "text": [
            "lstm_clf Accuracy score:  0.2564102564102564\n",
            "lstm_clf F1 score:  0.17517796392019483\n"
          ]
        }
      ],
      "source": [
        "if SEQUENCE_MODEL:\n",
        "    y_pred = lstm_model.predict(X_test)\n",
        "    y_pred_labels = np.apply_along_axis(np.argmax, 1, y_pred) \n",
        "\n",
        "    acc_score = accuracy_score(y_test, y_pred_labels)\n",
        "    print('lstm_clf Accuracy score: ', acc_score)\n",
        "\n",
        "    f1 = f1_score(y_test, y_pred_labels, average='weighted')\n",
        "    print('lstm_clf F1 score: ', f1)\n",
        "else:\n",
        "  print(\"Not a Sequence Model\")    "
      ],
      "id": "y746un-0hmHI"
    },
    {
      "cell_type": "code",
      "source": [
        "from sklearn.metrics import confusion_matrix\n",
        "cf_matrix = confusion_matrix(y_test, y_pred_labels)\n",
        "\n",
        "import seaborn as sns\n",
        "\n",
        "ax = sns.heatmap(cf_matrix, annot=True, cmap='Blues')\n",
        "\n",
        "ax.set_title(' Confusion Matrix with labels\\n\\n');\n",
        "ax.set_xlabel('\\nPredicted Values')\n",
        "ax.set_ylabel('Actual Values ');\n",
        "\n",
        "## Ticket labels - List must be in alphabetical order\n",
        "ax.xaxis.set_ticklabels(['False','True'])\n",
        "ax.yaxis.set_ticklabels(['False','True'])\n",
        "\n",
        "## Display the visualization of the Confusion Matrix.\n",
        "plt.show()"
      ],
      "metadata": {
        "id": "ETMEA_db2CQ-",
        "colab": {
          "base_uri": "https://localhost:8080/",
          "height": 337
        },
        "outputId": "4f1c17ee-8f6c-4aa3-a74a-0bce864d76a6"
      },
      "id": "ETMEA_db2CQ-",
      "execution_count": null,
      "outputs": [
        {
          "output_type": "display_data",
          "data": {
            "text/plain": [
              "<Figure size 432x288 with 2 Axes>"
            ],
            "image/png": "[encoded data removed]"
          },
          "metadata": {
            "needs_background": "light"
          }
        }
      ]
    },
    {
      "cell_type": "code",
      "source": [
        "if SEQUENCE_MODEL:\n",
        "    y_pred = transformer_model.predict(X_test)\n",
        "    y_pred_labels = np.apply_along_axis(np.argmax, 1, y_pred) \n",
        "\n",
        "    acc_score = accuracy_score(y_test, y_pred_labels)\n",
        "    print('transformer_clf Accuracy score: ', acc_score)\n",
        "\n",
        "    f1 = f1_score(y_test, y_pred_labels, average='weighted')\n",
        "    print('transformer_clf F1 score: ', f1)\n",
        "   # plot_confusion_matrix(y_test, y_pred,labels=multi_class_clf.classes_)\n",
        "else:\n",
        "  print(\"Not a Sequence Model\")   "
      ],
      "metadata": {
        "colab": {
          "base_uri": "https://localhost:8080/"
        },
        "id": "UpJFwCg-yr6F",
        "outputId": "56c520f2-0afc-4bc9-c4f8-a1d0b8517828"
      },
      "id": "UpJFwCg-yr6F",
      "execution_count": null,
      "outputs": [
        {
          "output_type": "stream",
          "name": "stdout",
          "text": [
            "transformer_clf Accuracy score:  0.38271604938271603\n",
            "transformer_clf F1 score:  0.3923869483927772\n"
          ]
        }
      ]
    },
    {
      "cell_type": "code",
      "source": [
        "from sklearn.metrics import confusion_matrix\n",
        "cf_matrix = confusion_matrix(y_test, y_pred_labels)\n",
        "\n",
        "import seaborn as sns\n",
        "\n",
        "ax = sns.heatmap(cf_matrix, annot=True, cmap='Blues')\n",
        "\n",
        "ax.set_title('Transformers Confusion Matrix with labels\\n\\n');\n",
        "ax.set_xlabel('\\nPredicted Values')\n",
        "ax.set_ylabel('Actual Values ');\n",
        "\n",
        "## Ticket labels - List must be in alphabetical order\n",
        "ax.xaxis.set_ticklabels(['False','True'])\n",
        "ax.yaxis.set_ticklabels(['False','True'])\n",
        "\n",
        "## Display the visualization of the Confusion Matrix.\n",
        "plt.show()"
      ],
      "metadata": {
        "colab": {
          "base_uri": "https://localhost:8080/",
          "height": 337
        },
        "id": "Xjb8gPYYyngs",
        "outputId": "a908a5dc-ee8e-4800-8525-1548c9dfb0fb"
      },
      "id": "Xjb8gPYYyngs",
      "execution_count": null,
      "outputs": [
        {
          "output_type": "display_data",
          "data": {
            "text/plain": [
              "<Figure size 432x288 with 2 Axes>"
            ],
            "image/png": "[encoded data removed]"
          },
          "metadata": {
            "needs_background": "light"
          }
        }
      ]
    },
    {
      "cell_type": "markdown",
      "metadata": {
        "id": "VKjt8uDbhmHI"
      },
      "source": [
        "### Summary of Model Evaluation Results\n",
        "\n",
        "|Model |Accuracy |F1 Score |\n",
        "|:---|:---|:---|\n",
        "|Logistic Regression |0.5802 |0.5684|\n",
        "|Multi-Output Classifier |0.4624 |0.4260 |\n",
        "|Random Forest |0.3371 |0.3031 |\n",
        "|LSTM |0.4226 |0.4326 |\n",
        "|Transformer |0.3912 |0.4028 |"
      ],
      "id": "VKjt8uDbhmHI"
    },
    {
      "cell_type": "code",
      "source": [
        "### VMD outputs"
      ],
      "metadata": {
        "id": "mbUVaMOLcDAp"
      },
      "id": "mbUVaMOLcDAp",
      "execution_count": null,
      "outputs": []
    },
    {
      "cell_type": "markdown",
      "source": [
        "### VMD "
      ],
      "metadata": {
        "id": "hyvuKK6JFLoS"
      },
      "id": "hyvuKK6JFLoS"
    },
    {
      "cell_type": "code",
      "source": [
        "#LR\n",
        "if not SEQUENCE_MODEL:\n",
        "    y_pred = logistic_clf.predict(X_test)\n",
        "\n",
        "    acc_score = accuracy_score(y_test, y_pred)\n",
        "    print('Accuracy score: ', acc_score)\n",
        "\n",
        "    prec_score = precision_score(y_test, y_pred, average='weighted')\n",
        "    print('Precision score: ', acc_score)\n",
        "\n",
        "    rec_score = recall_score(y_test, y_pred, average='weighted')\n",
        "    print('Recall score: ', rec_score)\n",
        "\n",
        "    f1 = f1_score(y_test, y_pred, average='weighted')\n",
        "    print('F1 score: ', f1)\n",
        "    \n",
        "    plot_confusion_matrix(y_test, y_pred, labels=logistic_clf.classes_)"
      ],
      "metadata": {
        "colab": {
          "base_uri": "https://localhost:8080/",
          "height": 955
        },
        "id": "ELLNi05jFNkw",
        "outputId": "3b01c8c1-b611-46dc-f21d-67b588146c13"
      },
      "id": "ELLNi05jFNkw",
      "execution_count": 40,
      "outputs": [
        {
          "output_type": "stream",
          "name": "stdout",
          "text": [
            "Accuracy score:  0.3378048780487805\n",
            "Precision score:  0.3378048780487805\n",
            "Recall score:  0.3378048780487805\n",
            "F1 score:  0.21857792749544855\n"
          ]
        },
        {
          "output_type": "stream",
          "name": "stderr",
          "text": [
            "/usr/local/lib/python3.7/dist-packages/sklearn/metrics/_classification.py:1318: UndefinedMetricWarning: Precision is ill-defined and being set to 0.0 in labels with no predicted samples. Use `zero_division` parameter to control this behavior.\n",
            "  _warn_prf(average, modifier, msg_start, len(result))\n"
          ]
        },
        {
          "output_type": "display_data",
          "data": {
            "text/plain": [
              "<Figure size 1080x1080 with 2 Axes>"
            ],
            "image/png": "[encoded data removed]"
          },
          "metadata": {
            "needs_background": "light"
          }
        }
      ]
    },
    {
      "cell_type": "code",
      "source": [
        "# RF\n",
        "if not SEQUENCE_MODEL:\n",
        "    y_pred = rf_clf.predict(X_test)\n",
        "\n",
        "    acc_score = accuracy_score(y_test, y_pred)\n",
        "    print('Accuracy score: ', acc_score)\n",
        "\n",
        "    prec_score = precision_score(y_test, y_pred, average='weighted')\n",
        "    print('Precision score: ', acc_score)\n",
        "\n",
        "    rec_score = recall_score(y_test, y_pred, average='weighted')\n",
        "    print('Recall score: ', rec_score)\n",
        "\n",
        "    f1 = f1_score(y_test, y_pred, average='weighted')\n",
        "    print('F1 score: ', f1)\n",
        "    \n",
        "    plot_confusion_matrix(y_test, y_pred, labels=rf_clf.classes_)"
      ],
      "metadata": {
        "colab": {
          "base_uri": "https://localhost:8080/",
          "height": 921
        },
        "id": "PTx9BZK7PGJq",
        "outputId": "efc3d620-52b1-46e0-d662-350b72919dc4"
      },
      "id": "PTx9BZK7PGJq",
      "execution_count": 38,
      "outputs": [
        {
          "output_type": "stream",
          "name": "stdout",
          "text": [
            "Accuracy score:  0.22560975609756098\n",
            "Precision score:  0.22560975609756098\n",
            "Recall score:  0.22560975609756098\n",
            "F1 score:  0.189817242621263\n"
          ]
        },
        {
          "output_type": "display_data",
          "data": {
            "text/plain": [
              "<Figure size 1080x1080 with 2 Axes>"
            ],
            "image/png": "[encoded data removed]"
          },
          "metadata": {
            "needs_background": "light"
          }
        }
      ]
    },
    {
      "cell_type": "code",
      "source": [
        "if not SEQUENCE_MODEL:\n",
        "    y_test = y_test.reshape(-1, 1)\n",
        "\n",
        "    y_pred = multi_class_clf.predict(X_test)\n",
        "\n",
        "    acc_score = accuracy_score(y_test, y_pred)\n",
        "    print('Accuracy score: ', acc_score)\n",
        "\n",
        "    prec_score = precision_score(y_test, y_pred, average='weighted')\n",
        "    print('Precision score: ', acc_score)\n",
        "\n",
        "    rec_score = recall_score(y_test, y_pred, average='weighted')\n",
        "    print('Recall score: ', rec_score)\n",
        "\n",
        "    f1 = f1_score(y_test, y_pred, average='weighted')\n",
        "    print('F1 score: ', f1)\n",
        "    \n",
        "    plot_confusion_matrix(y_test, y_pred, labels=multi_class_clf.classes_)"
      ],
      "metadata": {
        "colab": {
          "base_uri": "https://localhost:8080/",
          "height": 921
        },
        "id": "4vzWWuZtRJEF",
        "outputId": "3f99dabb-ff71-42de-9786-f323dddd9f49"
      },
      "id": "4vzWWuZtRJEF",
      "execution_count": 39,
      "outputs": [
        {
          "output_type": "stream",
          "name": "stdout",
          "text": [
            "Accuracy score:  0.348780487804878\n",
            "Precision score:  0.348780487804878\n",
            "Recall score:  0.348780487804878\n",
            "F1 score:  0.3426816789566413\n"
          ]
        },
        {
          "output_type": "display_data",
          "data": {
            "text/plain": [
              "<Figure size 1080x1080 with 2 Axes>"
            ],
            "image/png": "[encoded data removed]"
          },
          "metadata": {
            "needs_background": "light"
          }
        }
      ]
    },
    {
      "cell_type": "code",
      "source": [
        ""
      ],
      "metadata": {
        "id": "2-x19leBRJBt"
      },
      "id": "2-x19leBRJBt",
      "execution_count": null,
      "outputs": []
    },
    {
      "cell_type": "markdown",
      "source": [
        ""
      ],
      "metadata": {
        "id": "nR8z-jlwDHcW"
      },
      "id": "nR8z-jlwDHcW"
    }
  ],
  "metadata": {
    "kernelspec": {
      "display_name": "Python 3",
      "language": "python",
      "name": "python3"
    },
    "language_info": {
      "codemirror_mode": {
        "name": "ipython",
        "version": 3
      },
      "file_extension": ".py",
      "mimetype": "text/x-python",
      "name": "python",
      "nbconvert_exporter": "python",
      "pygments_lexer": "ipython3",
      "version": "3.7.4"
    },
    "colab": {
      "name": "Copy of Copy of clinical_text_classification-FINAL.ipynb",
      "provenance": [],
      "collapsed_sections": []
    },
    "accelerator": "GPU"
  },
  "nbformat": 4,
  "nbformat_minor": 5
}